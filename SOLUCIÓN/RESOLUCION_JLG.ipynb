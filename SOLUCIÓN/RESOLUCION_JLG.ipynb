{
 "cells": [
  {
   "cell_type": "markdown",
   "metadata": {},
   "source": [
    "<h1>PRIMERA APROXIMACIÓN AL PROBLEMA</h1>\n",
    "\n",
    "<h2> INTRODUCCIÓN </h2>\n",
    "\n",
    "Para ilustrar el ejemplo se utiliza el dataset [SURVEY LUNG CANCER](https://www.kaggle.com/datasets/mysarahmadbhat/lung-cancer), cuyas características son:\n",
    " \n",
    "Total no. of attributes: 16\n",
    "\n",
    "No .of instances: 284\n",
    "\n",
    "Attribute information:\n",
    "\n",
    "    Gender: M(male), F(female)\n",
    "    Age: Age of the patient\n",
    "    Smoking: YES=2 , NO=1.\n",
    "    Yellow fingers: YES=2 , NO=1.\n",
    "    Anxiety: YES=2 , NO=1.\n",
    "    Peer_pressure: YES=2 , NO=1.\n",
    "    Chronic Disease: YES=2 , NO=1.\n",
    "    Fatigue: YES=2 , NO=1.\n",
    "    Allergy: YES=2 , NO=1.\n",
    "    Wheezing: YES=2 , NO=1.\n",
    "    Alcohol: YES=2 , NO=1.\n",
    "    Coughing: YES=2 , NO=1.\n",
    "    Shortness of Breath: YES=2 , NO=1.\n",
    "    Swallowing Difficulty: YES=2 , NO=1.\n",
    "    Chest pain: YES=2 , NO=1.\n",
    "    Lung Cancer: YES , NO.\n",
    "\n",
    "El problema que utilizaremos como ejemplo de aplicación es un análisis sencillo. Queremos contar cuántos casos de cáncer existen en función de si los individuos son fumadores o no. \n"
   ]
  },
  {
   "cell_type": "markdown",
   "metadata": {},
   "source": [
    "<h2> HERRAMIENTAS UTILIZADAS </h2>\n",
    "\n",
    "La salida es un documento html exportado desde una libreta de Jupyter Notebook. El código está escrito en lenguaje Python3 y la matemática con comandos de $\\LaTeX$. "
   ]
  },
  {
   "cell_type": "markdown",
   "metadata": {},
   "source": [
    "<h2> CIFRADO HOMOMÓRFICO </h2>\n",
    "\n",
    "El uso de un sistema de cifrado homomórfico está motivado por la obtención de un algoritmo de descifrazo que defina, para una clave privada, un homomorfismo de grupos entre el espacio del mensaje cifrado ($\\mathcal{C}$) y el del mensaje sin cifrar ($\\mathcal{M}$): \n",
    "\n",
    "$$ f: \\mathcal{C} \\rightarrow \\mathcal{M} $$\n",
    "\n",
    "Así, podremos enviar la información cifrada al servicio Cloud, para tratarla encriptada y, posteriormente, traer al local las conclusiones para ser descifradas. Para una primera aproximación tomamos el sistema RSA simplificado. \n",
    "\n",
    "La clave pública es un par $(N,e)$ donde $N = p \\cdot q$ es producto de dos primos $p$ y $q$ suficientemente grandes y distintos. Por otro lado, $e$ es el llamado exponente de cifrado que es un entero positivo tal que mcd $(e,\\phi(N)) = 1$, donde $\\phi(N) = (p-1)(q-1)$ es la función $\\phi$ de Euler. \n",
    "\n",
    "La clave privada es el par $(N,d)$ donde $d$ es el exponente de descifrado (i.e. el inverso de $e$ módulo $\\phi(n)$). De este modo se verifica que \n",
    "\n",
    "$$ e \\cdot d \\equiv 1\\, (mod\\, (p-1)(q-1))$$\n",
    "\n",
    "así \n",
    "\n",
    "$$ \\mathcal{M} = \\mathcal{C} = (\\mathbb{Z}_N)^* $$\n",
    "\n",
    "que es el grupo multiplicativo de las unidades módulo n, cuyos elementos son \n",
    "\n",
    "$$ m \\in \\mathbb{Z}: 1 \\leq m < N \\wedge mcd\\, (m,n) = 1 $$\n",
    "\n",
    "quedando el homomorfismo de grupos \n",
    "\n",
    "$$ E: (\\mathbb{Z}_N)^* \\longrightarrow (\\mathbb{Z}_N)^* $$\n",
    "$$ m \\mapsto m^e\\, mod \\, N $$\n",
    "\n",
    "que es un isomorfismo, que permite descifrar un mensaje cifrado $c$ através de su inverso  \n",
    "\n",
    "$$D(c) = c^d \\, mod \\, N$$\n",
    "\n",
    "La utilidad de esto radica en que $((\\mathbb{Z}_N)^*,\\; \\cdot)$ es un grupo multiplicativo, por tanto \n",
    "\n",
    "$$ \\begin{equation} \\tag{h}\n",
    "E(m_1 \\cdot m_2) = E(m_1) \\cdot E(m_2)\n",
    "\\end{equation} \n",
    "$$  "
   ]
  },
  {
   "cell_type": "markdown",
   "metadata": {},
   "source": [
    "<h2>APLICACIÓN AL DATASET DEL CÁNCER DE PULMÓN</h2>\n",
    "\n",
    "En primer lugar vamos a definir dos funciones, una para encriptar un tipo int y otra para desencriptarlo. Los parámetros de entrada para la función que encripta serán: \n",
    "<ul>\n",
    "<li>publicKey -> Lista que contiene: N, e </li>\n",
    "<li>mensaje -> int </li>\n",
    "</ul>\n",
    "mientras que para la función que desencipta tendremos:\n",
    "<ul>\n",
    "<li>privateKey -> Lista que contiene: N, d </li>\n",
    "<li>criptotexto -> int </li>\n",
    "</ul>\n",
    "\n",
    "Las funciones se muestran a continuación: "
   ]
  },
  {
   "cell_type": "code",
   "execution_count": 11,
   "metadata": {},
   "outputs": [],
   "source": [
    "def E_RSA(publicKey, mensaje): \n",
    "    n = publicKey[0]\n",
    "    e = publicKey[1]\n",
    "    return pow(mensaje, e, n)\n",
    "\n",
    "def D_RSA(privateKey, criptotexto): \n",
    "    n = privateKey[0]\n",
    "    d = privateKey[1]\n",
    "    return pow(criptotexto, d, n)"
   ]
  },
  {
   "cell_type": "markdown",
   "metadata": {},
   "source": [
    "Suponemos ahora que tenemos cifrada la columna *SMOKING* del dataset. Una primera opción que se ha trabajado es exportar el csv a un data frame, pero el tipo int64 con el que trabaja pandas colisiona con el uso del método *pow*. De momento, optaré por una solución más rudimentaria para encriptar la columna y poder ilustrar este ejemplo."
   ]
  },
  {
   "cell_type": "code",
   "execution_count": 12,
   "metadata": {},
   "outputs": [],
   "source": [
    "fumar = []\n",
    "with open('survey_lung_cancer.csv', 'r') as archivo: \n",
    "    lineas = archivo.read().splitlines()\n",
    "    #borro encabezado\n",
    "    lineas.pop(0)\n",
    "    for l in lineas: \n",
    "        linea = l.split(',')\n",
    "        fumar.append(int(linea[2]))"
   ]
  },
  {
   "cell_type": "markdown",
   "metadata": {},
   "source": [
    "De esta forma, hemos creado la columna *fumar* que contiene los enteros 1 si la persona no era fumadora y 2 si la persona era fumadora. Ambas entradas de tipo int. De modo que ya podemos encriptar secuencialmente la columna. \n",
    "\n",
    "Para ello definimos los valores que gobiernan el ejemplo: "
   ]
  },
  {
   "cell_type": "code",
   "execution_count": 13,
   "metadata": {},
   "outputs": [],
   "source": [
    "e = 2**16 + 1                       #exponente de cifrado \n",
    "p = 409                             #primo \n",
    "q = 317                             #primo\n",
    "n = p * q                           #producto de dos primos distintos \n",
    "\n",
    "phi_n = (p-1)*(q-1)                 #cálculo de la función phi de Euler para n\n",
    "\n",
    "pubKey = [n, e]                     #Clave publica \n",
    "priKey = [n, pow(e,-1,phi_n)]       #clave privada"
   ]
  },
  {
   "cell_type": "markdown",
   "metadata": {},
   "source": [
    "Ciframos la columna *fumar*"
   ]
  },
  {
   "cell_type": "code",
   "execution_count": 14,
   "metadata": {},
   "outputs": [],
   "source": [
    "fumar_encrip = []\n",
    "for elemento in fumar: \n",
    "    fumar_encrip.append(E_RSA(pubKey, elemento))"
   ]
  },
  {
   "cell_type": "markdown",
   "metadata": {},
   "source": [
    "Ahora vamos hacer el cálculo pedido: encontrar cuántos pacientes de cáncer de pulmón eran fumadores y cuántos no. En primer lugar, las entradas del dataset son el 1 y un número primo. Por el teorema fundamental de la aritmética sabemos que todo entero positivo mayor que 1 es un número primo o bien un único producto de números primos. De modo que el número de pacientes fumadores se puede obtener fácilmente, ya que conocemos los factores involucrados en la descomposición del producto de todos los elementos de la columna *fumar_encrip*. Sólo nos falta por conocer sus exponentes para extraer la información pedida. \n",
    "\n",
    "Calculamos el productorio módulo n de *fumar_encrip*"
   ]
  },
  {
   "cell_type": "code",
   "execution_count": 15,
   "metadata": {},
   "outputs": [
    {
     "data": {
      "text/plain": [
       "84172"
      ]
     },
     "execution_count": 15,
     "metadata": {},
     "output_type": "execute_result"
    }
   ],
   "source": [
    "from math import prod\n",
    "producto = (prod(fumar_encrip)) % n\n",
    "producto"
   ]
  },
  {
   "cell_type": "markdown",
   "metadata": {},
   "source": [
    "Esta operación con los datos encriptados se habría hecho en la estructura del proveedor cloud y exportaríamos al local, únicamente, la variable *producto*. \n",
    "\n",
    "Una vez en local, el usuario conocería la clave privada por lo que podría desencriptarlo y *factorizarlo* para extraer la información buscada gracias a (h). \n",
    "\n",
    "En este caso, por ser una de las entradas un 1, el único primo es 2, por lo que buscamos su exponente y mediante la diferencia respecto al total obtenemos el número de pacientes no fumadores. La función que factorizará *producto* simplemente eleva iterativamente 2, una unidad más en cada paso, hasta obtener el valor de la variable *producto*."
   ]
  },
  {
   "cell_type": "code",
   "execution_count": 16,
   "metadata": {},
   "outputs": [],
   "source": [
    "def factP(mensaje_descifrado, n): \n",
    "    result = 0\n",
    "    num = 0\n",
    "    while(num != mensaje_descifrado): \n",
    "        result += 1\n",
    "        num = pow(2,result,n)\n",
    "        \n",
    "    return result "
   ]
  },
  {
   "cell_type": "code",
   "execution_count": 17,
   "metadata": {},
   "outputs": [
    {
     "name": "stdout",
     "output_type": "stream",
     "text": [
      "El total de pacientes fumadores es: 174. \n",
      "El total de pacientes no fumadores es: 135. \n",
      "De un total de 309 pacientes.\n"
     ]
    }
   ],
   "source": [
    "fumadores = factP(D_RSA(priKey, producto), n)\n",
    "total = len(fumar)\n",
    "no_fumadores = abs(total - fumadores)\n",
    "print(f'El total de pacientes fumadores es: {fumadores}. \\nEl total de pacientes no fumadores es: {no_fumadores}. \\nDe un total de {total} pacientes.')"
   ]
  },
  {
   "cell_type": "markdown",
   "metadata": {},
   "source": [
    "<h2>LIMITACIONES</h2>\n",
    "El proceso que se acaba de describir es inútil desde el punto de vista de la seguridad. Al ser un proceso determinista, es decir, los pacientes fumadores y no fumadores se cifran siempre de la misma manera, no podemos presuponer que alguien que quiera hacer un uso fraudulento de la información desconoce los elementos involucrados en el algoritmo (*principio de Kerckhoffs*). \n",
    "\n",
    "Esto se puede traducir en que, en el peor caso, con un par de evaluaciones obtenemos si un paciente es o no fumador: "
   ]
  },
  {
   "cell_type": "code",
   "execution_count": 18,
   "metadata": {},
   "outputs": [
    {
     "name": "stdout",
     "output_type": "stream",
     "text": [
      "Buscamos la representación de 1\n",
      "Representa: No es fumador\n"
     ]
    }
   ],
   "source": [
    "valor = E_RSA(pubKey, 1)\n",
    "print(f'Buscamos la representación de 1')\n",
    "if (not E_RSA(pubKey, 1) == valor):\n",
    "    E_RSA(pubKey, 2) == valor\n",
    "    print(\"Representa: Es fumador\")\n",
    "else: \n",
    "    print(\"Representa: No es fumador\")"
   ]
  },
  {
   "cell_type": "markdown",
   "metadata": {},
   "source": [
    "La probabiliad de distinguir al fumador del no fumador es 1. El objetivo sería no ser capaces de acertar con probabilidad significativamente mayor que $\\dfrac{1}{2}$. \n",
    "\n",
    "La definición asintótica de la probabilidad insignificante supone que, si alguien intenta distinguir los mensajes lo hace con probabiliad $\\dfrac{1}{2}+\\dfrac{1}{f(k)}$, donde $k$ es la longitud del módulo RSA y $f(k)$ una función polinómica, entonces el algoritmo no es seguro. "
   ]
  },
  {
   "cell_type": "markdown",
   "metadata": {},
   "source": [
    "<h2>MEJORANDO EL SISTEMA</h2>\n",
    "\n",
    "Un algoritmo de cifrado que es homomórfico y CPA seguro es el de Paillier. Se dice que un procedimiento es CPA seguro si en tiempo polinómico un atacante no puede distinguir entre dos criptotextos partiendo de dos textos sin cifrar elegidos por él."
   ]
  },
  {
   "cell_type": "markdown",
   "metadata": {},
   "source": [
    "Las fases que gobiernan el algoritmo de Paillier son tres, a saber: \n",
    "* **Generar las claves**. Se generan dos primos aleatorios $p$ y $q$ y se obtiene la clave pública $n=pq$ y la clave privada $(n, \\phi(n))$. Por simplicidad, supondremos que $p$ y $q$ tienen la misma longitud. \n",
    "* **Cifrar**. El conjunto de textos sin cifrar será $\\mathbb{Z}_n$ y el de criptotextos $(\\mathbb{Z}_{n^2})^*$. Para cifrar un mensaje $m \\in \\mathbb{Z}_n$, se elige $r \\in (\\mathbb{Z}_{n^2})^*$ al *azar* y se calcula el criptotexto como \n",
    "\n",
    "$$c = E(n, m) := ((1+n)^m \\cdot r^n)\\, mod \\, n^2 \\in (\\mathbb{Z}_{n^2})^* \\tag{Encriptación con Paillier} $$\n",
    "\n",
    "* **Descifrar**. Para descrifrar $c$ con la clave privada $(n, \\phi(n))$ se hace $$m = D((n, \\phi(n)), c) := \\dfrac{(c^{\\phi(n)}\\, mod\\, n^2)-1}{n} \\cdot \\phi(n)^{-1} \\, mod \\, n \\tag{Desencriptación con Paillier} $$ donde $((c^{\\phi(n)}\\, mod\\, n^2)-1)/n$ se calcula en $\\mathbb{Z}$.\n",
    "\n",
    "Ahora bien, $\\mathbb{Z}_n$ es aditivo, y $(\\mathbb{Z}_{n^2})^*$ multiplicativo, por lo que la función de descifrado de Paillier lleva un producto de criptotextos en $(\\mathbb{Z}_{n^2})^*$ a la suma de los textos sin cifrar en $\\mathbb{Z}_{n}$. Sean $m_1$ y $m_2 \\in \\mathbb{Z}_n$, entonces $c_1 = E(n, m_1)$ y $c_2 = E(n, m_2)$ de donde  \n",
    "\n",
    "$$D((n, \\phi(n), c), (c_1 \\cdot c_2)\\, mod \\, n^2) = (m_1 + m_2) \\, mod \\, n \\tag{Propiedad homomórfica} $$ \n",
    "\n",
    "La aplicación $D: (\\mathbb{Z}_{n^2})^* \\rightarrow \\mathbb{Z}_{n}$ inducida por el algoritmo de descifrado con una clave fija es un homomorfismo de grupos (no se puede afirmar lo mismo del de cifrado por ser probabilista). No obstante, es cierto que para cifrar la suma de varios mensajes se puede tomar como criptotexto el productorio de los criptotextos asociados a cada mensaje. "
   ]
  },
  {
   "cell_type": "markdown",
   "metadata": {},
   "source": [
    "<h2>APLICACIÓN AL DATASET DEL CÁNCER DE PULMÓN</h2>\n",
    "\n",
    "Importamos la función $ \\texttt{getprimeover(N)} $ la cual retorna un primo de N-bits usando GMP o, si no está accesible, PyCrypto; que son librerías criptográficas de Python. Además, importamos $ \\texttt{random} $ para hallar $r \\in (\\mathbb{Z}_{n^2})^* $"
   ]
  },
  {
   "cell_type": "code",
   "execution_count": 19,
   "metadata": {},
   "outputs": [],
   "source": [
    "from phe.util import getprimeover\n",
    "from random import *"
   ]
  },
  {
   "cell_type": "markdown",
   "metadata": {},
   "source": [
    "Generamos las claves pública y privada suponiendo que la longitud de N es de 1024. Generalmente se usan longitudes de 3072 (como hace la librería $ \\texttt{Paillier} $ de $ \\texttt{phe} $)"
   ]
  },
  {
   "cell_type": "code",
   "execution_count": 20,
   "metadata": {},
   "outputs": [],
   "source": [
    "N_LEN = 1024\n",
    "p = q = n = None\n",
    "n_len = 0\n",
    "while n_len != N_LEN:\n",
    "    p = getprimeover(N_LEN // 2)\n",
    "    q = p\n",
    "    while q == p:\n",
    "        q = getprimeover(N_LEN // 2)\n",
    "    n = p * q\n",
    "    n_len = n.bit_length()\n",
    "\n",
    "\n",
    "phi_n_P = (p-1) * (q-1)\n",
    "public_key_P = n \n",
    "private_key_P = [n, phi_n_P]"
   ]
  },
  {
   "cell_type": "markdown",
   "metadata": {},
   "source": [
    "Implementamos un procedimiento para encriptar, según lo visto en (Encriptación con Paillier), y un procedimiento para desencriptar, según lo visto en (Desencriptación con Paillier)"
   ]
  },
  {
   "cell_type": "code",
   "execution_count": 21,
   "metadata": {},
   "outputs": [],
   "source": [
    "def E_PAI(publicKey, mensaje): \n",
    "    r = randint(1, n) \n",
    "    nc = n**2\n",
    "    return pow((1+n), mensaje, nc) * pow(r, n, nc)\n",
    "\n",
    "def D_PAI(privateKey, criptotexto): \n",
    "    n = privateKey[0]\n",
    "    phi = privateKey[1]\n",
    "    nc = n**2\n",
    "    numerador = ((pow(criptotexto, phi, nc) - 1) // n) % n\n",
    "    denominador = pow(phi, -1, n)\n",
    "    return (numerador * denominador) % n \n"
   ]
  },
  {
   "cell_type": "markdown",
   "metadata": {},
   "source": [
    "Encriptamos la columna SMOKING del dataset"
   ]
  },
  {
   "cell_type": "code",
   "execution_count": 22,
   "metadata": {},
   "outputs": [],
   "source": [
    "fumar_encrip_P = []\n",
    "for elemento in fumar: \n",
    "    fumar_encrip_P.append(E_PAI(public_key_P, elemento))"
   ]
  },
  {
   "cell_type": "markdown",
   "metadata": {},
   "source": [
    "Calculamos \n",
    "$$ \\texttt{producto\\_p} = \\prod_{i=0}^{i = l} c_i \\, mod \\, n^2 $$\n",
    "donde l es la longitud de la lista *fumar_encrip_P*"
   ]
  },
  {
   "cell_type": "code",
   "execution_count": 23,
   "metadata": {},
   "outputs": [],
   "source": [
    "producto_P = 1\n",
    "for elemento in fumar_encrip_P:\n",
    "    producto_P = (producto_P * elemento) % n**2"
   ]
  },
  {
   "cell_type": "markdown",
   "metadata": {},
   "source": [
    "observamos que el elemento resultante está en $ (\\mathbb{Z}_{n^2})^* $"
   ]
  },
  {
   "cell_type": "code",
   "execution_count": 24,
   "metadata": {},
   "outputs": [
    {
     "name": "stdout",
     "output_type": "stream",
     "text": [
      "producto: 616 \n",
      "n**2: 616\n"
     ]
    }
   ],
   "source": [
    "print(f'producto: {len(str(producto_P))} \\nn**2: {len(str(n**2))}')"
   ]
  },
  {
   "cell_type": "markdown",
   "metadata": {},
   "source": [
    "Este valor lo traeríamos al local dentro nuestra empresa. Ahora, sabemos que para descrifrarlo es un homomorfismo según la propiedad descrita en (Propiedad homomórfica), la función de descifrado obtendrá\n",
    "$$  \\sum_{i=0}^l m_i \\, mod \\, n  $$  "
   ]
  },
  {
   "cell_type": "markdown",
   "metadata": {},
   "source": [
    "dicho numero debe representar la suma de pacientes fumadores y no fumadores de la columna SMOKING del dataset"
   ]
  },
  {
   "cell_type": "code",
   "execution_count": 25,
   "metadata": {},
   "outputs": [
    {
     "data": {
      "text/plain": [
       "483"
      ]
     },
     "execution_count": 25,
     "metadata": {},
     "output_type": "execute_result"
    }
   ],
   "source": [
    "cyf = D_PAI(private_key_P, producto_P)\n",
    "cyf"
   ]
  },
  {
   "cell_type": "markdown",
   "metadata": {},
   "source": [
    "Dado que las entradas elegidas para representar el *si* y el *no* son 2 y 1, este camino no sirve pues no sería posible. Al ser una suma, descomponerla y obtener la información deseada no es viable. El valor obtenido 483, es coherente con la solución obtenida con RSA, la cual decía: \n",
    "\n",
    "$$ \\texttt{El total de pacientes fumadores es: 174.} $$ \n",
    "$$ \\texttt{El total de pacientes no fumadores es: 135.} $$\n",
    "\n",
    "es decir, \n",
    "\n",
    "$$ 172 \\cdot 2 + 135 \\cdot  1 = 483 $$\n",
    "\n",
    "como hemos obtenido. El sistema funciona como se esperaba. \n",
    "\n",
    "No obstante, para poder usar este método de forma eficaz, necesitamos que las entradas sean, por ejemplo, 0 y 1, de forma que la suma obtenida ya representaría el total de una de las dos opciones, siendo la otra la diferencia respecto del total de casos estudiados. "
   ]
  },
  {
   "cell_type": "markdown",
   "metadata": {},
   "source": [
    "Un posible ejemplo de aplicación sería calcular la media de edad por el genero de los pacientes. Para ello, en primer lugar vamos a crear una lista en la que convertimos M en 0 y F en 1, para poder discriminar el genero del paciente. En otra lista tendremos la edad de cada paciente. "
   ]
  },
  {
   "cell_type": "code",
   "execution_count": 26,
   "metadata": {},
   "outputs": [],
   "source": [
    "genero = []\n",
    "edad = []\n",
    "with open('survey_lung_cancer.csv', 'r') as archivo: \n",
    "    lineas = archivo.read().splitlines()\n",
    "    #borro encabezado\n",
    "    lineas.pop(0)\n",
    "    for l in lineas: \n",
    "        linea = l.split(',')\n",
    "        genero.append(linea[0])\n",
    "        edad.append(int(linea[1]))\n",
    "\n",
    "for i in range(len(genero)):\n",
    "    if genero[i] == 'M': \n",
    "        genero[i] = 0\n",
    "    else: \n",
    "        genero[i] = 1\n",
    "\n",
    "data = list(zip(genero, edad))"
   ]
  },
  {
   "cell_type": "markdown",
   "metadata": {},
   "source": [
    "Mostramos una parte de la lista data"
   ]
  },
  {
   "cell_type": "code",
   "execution_count": 27,
   "metadata": {},
   "outputs": [
    {
     "name": "stdout",
     "output_type": "stream",
     "text": [
      "[(1, 61), (0, 72), (1, 60), (0, 58), (0, 69), (1, 48), (0, 75), (0, 57), (1, 68), (1, 61)]\n"
     ]
    }
   ],
   "source": [
    "print(data[10:20])"
   ]
  },
  {
   "cell_type": "markdown",
   "metadata": {},
   "source": [
    "Ciframos la lista data "
   ]
  },
  {
   "cell_type": "code",
   "execution_count": 28,
   "metadata": {},
   "outputs": [],
   "source": [
    "generoENCP = []\n",
    "for elemento in genero: \n",
    "    generoENCP.append(E_PAI(public_key_P, elemento))"
   ]
  },
  {
   "cell_type": "code",
   "execution_count": 29,
   "metadata": {},
   "outputs": [],
   "source": [
    "edadENCP = []\n",
    "for elemento in edad: \n",
    "    edadENCP.append(E_PAI(public_key_P, elemento))"
   ]
  },
  {
   "cell_type": "code",
   "execution_count": 30,
   "metadata": {},
   "outputs": [],
   "source": [
    "data_ENCP = list(zip(generoENCP, edadENCP))"
   ]
  },
  {
   "cell_type": "code",
   "execution_count": 31,
   "metadata": {},
   "outputs": [],
   "source": [
    "def prodMod(lista, mod):\n",
    "    producto_P = 1\n",
    "    moD = mod**2\n",
    "    for elemento in lista:\n",
    "        producto_P = (producto_P * elemento) % moD\n",
    "    return producto_P"
   ]
  },
  {
   "cell_type": "code",
   "execution_count": 32,
   "metadata": {},
   "outputs": [],
   "source": [
    "result = (prodMod(generoENCP, n), prodMod(edadENCP, n))"
   ]
  },
  {
   "cell_type": "code",
   "execution_count": 33,
   "metadata": {},
   "outputs": [],
   "source": [
    "resultDECRIP = (D_PAI(private_key_P, result[0]), (D_PAI(private_key_P, result[1])))"
   ]
  },
  {
   "cell_type": "code",
   "execution_count": 34,
   "metadata": {},
   "outputs": [],
   "source": [
    "total = len(genero)\n",
    "mujeres = resultDECRIP[0]\n",
    "hombres = abs(mujeres - total)\n",
    "media_edad = resultDECRIP[1] / total"
   ]
  },
  {
   "cell_type": "code",
   "execution_count": 35,
   "metadata": {},
   "outputs": [],
   "source": [
    "import matplotlib.pyplot as plt"
   ]
  },
  {
   "cell_type": "code",
   "execution_count": 36,
   "metadata": {},
   "outputs": [
    {
     "data": {
      "image/png": "[encoded data removed]",
      "text/plain": [
       "<Figure size 432x288 with 1 Axes>"
      ]
     },
     "metadata": {
      "needs_background": "light"
     },
     "output_type": "display_data"
    },
    {
     "name": "stdout",
     "output_type": "stream",
     "text": [
      "CONCLUSIÓN: \n",
      "La media de edad de los pacientes es de 62.7 años. \n",
      "Hay un total de 309 pacientes, de los cuales 162 son hombres, y 147 son mujeres.\n"
     ]
    }
   ],
   "source": [
    "plt.bar(['Hombres', 'Mujeres'], [hombres, mujeres])\n",
    "plt.show()\n",
    "print(f'CONCLUSIÓN: \\nLa media de edad de los pacientes es de {round(media_edad, 1)} años. \\nHay un total de {total} pacientes, de los cuales {hombres} son hombres, y {mujeres} son mujeres.')"
   ]
  },
  {
   "cell_type": "markdown",
   "metadata": {},
   "source": [
    "<h2> SEGURIDAD </h2>\n",
    "\n",
    "Si reproducimos el ataque que hicimos para RSA encontramos una diferencia sustancial: **dos textos claros no siempre tienen el mismo criptotexto**. En efecto:"
   ]
  },
  {
   "cell_type": "code",
   "execution_count": 37,
   "metadata": {},
   "outputs": [
    {
     "data": {
      "text/plain": [
       "False"
      ]
     },
     "execution_count": 37,
     "metadata": {},
     "output_type": "execute_result"
    }
   ],
   "source": [
    "dos = E_PAI(public_key_P, 2)\n",
    "otro_dos = E_PAI(public_key_P, 2)\n",
    "\n",
    "dos == otro_dos"
   ]
  },
  {
   "cell_type": "markdown",
   "metadata": {},
   "source": [
    "<h2>LIMITACIONES</h2>\n",
    "\n",
    "Podría parecer que hemos resuelto el problema. Pero nada más lejos de la realidad. Hemos impuesto que nuestro sistema de cifrado, además de homórfico, sea CPA seguro. Pero se conocen formas de atacar a estos sistemas permitiendo conocer, en nuestro caso, si un paciente en concreto es o no fumador. Este tipo de ataques se conocen como ataques CCA. Como en el caso CPA se elegirán dos mensajes, y uno de ellos (al azar) es cifrado, y el criptotexto es entregado al atacante que intenta descifrar a cuál corresponde. Además, el atacante puede adaptar el ataque según las respuesta que obtenga. Veamos que ocurre con nuestro ejemplo:"
   ]
  },
  {
   "cell_type": "markdown",
   "metadata": {},
   "source": [
    "En primer lugar ciframos el 1"
   ]
  },
  {
   "cell_type": "code",
   "execution_count": 38,
   "metadata": {},
   "outputs": [
    {
     "data": {
      "text/plain": [
       "906477654063508770025018307487212423291485346022284055619553315578955141943449916252390206000033891859343317996511076989681241974933846723483339238452202918134461188091524642385463917826480064502922304478732758951887341426886306268465618031436961858027158506232311312284073295677310492804486129692004003650127998150947732123079513991641540078825040146422549377540456713152113215499116899360476803724575432532264906381581207763668310878165512694514040365671511617557231010979864647472318544501959922560082646122540735796679840759440085632548925701796281677849116633033437353218811205128991709513766733437728971962669665827873902915721228206972571489013568232096867625372097229237656373728699133304677921055153822732672498784466031120225723256478033433708456280832485793043635139014165657613681480516145124478905088754412218784674854058297377037605970659796283231705708702466683258624698860539289530723392494920521371011441730"
      ]
     },
     "execution_count": 38,
     "metadata": {},
     "output_type": "execute_result"
    }
   ],
   "source": [
    "uno = E_PAI(public_key_P, 1)\n",
    "uno "
   ]
  },
  {
   "cell_type": "markdown",
   "metadata": {},
   "source": [
    "El atacante, puede utilizar la propiedad homomórfica. Sea c el primer elemento de $ \\texttt{fumar\\_encrip\\_P} $ \n",
    "\n",
    "$$ \\texttt{c1} := (\\texttt{uno} \\cdot \\texttt{c}) \\, mod \\, n^2 $$\n",
    "\n",
    "y además, sabe que \n",
    "\n",
    "$$ \\texttt{D\\_PAI(private\\_key\\_p, uno) = 1} $$"
   ]
  },
  {
   "cell_type": "code",
   "execution_count": 39,
   "metadata": {},
   "outputs": [
    {
     "data": {
      "text/plain": [
       "1"
      ]
     },
     "execution_count": 39,
     "metadata": {},
     "output_type": "execute_result"
    }
   ],
   "source": [
    "c1 = (uno * fumar_encrip_P[0]) % (n**2) \n",
    "D_PAI(private_key_P, c1) - 1"
   ]
  },
  {
   "cell_type": "markdown",
   "metadata": {},
   "source": [
    "ergo el primer paciente, no era fumador. "
   ]
  },
  {
   "cell_type": "markdown",
   "metadata": {},
   "source": [
    "\"Un esquema criptográfico se dice no maleable si la probabilidad de que el adversario encuentre dichos textos [...] no es significativamente mayor que dicha probabilidad para el cifrado de una cadena de bits $ x $ elegida al azar.\" (González Vasco, 2003, p.26)"
   ]
  },
  {
   "cell_type": "markdown",
   "metadata": {},
   "source": [
    "Por tanto decimos que el método de Paillier es maleable. Un atacante puede modificar el criptotexto del ataque y obtener otro criptotexto relacionado de forma que su texto claro esté relacionado con el texto claro que se quiere descifrar. "
   ]
  },
  {
   "cell_type": "markdown",
   "metadata": {},
   "source": [
    "<h2> OTROS SISTEMAS HOMOMÓRFICOS </h2>\n",
    "\n",
    "Hemos estudiado dos casos de sistemas de encriptación con la propiedad de ser homomórficos. En una primera aproximación, nos encontramos un tipo de brecha de seguridad debido a la cual un atacante experto puede descifrar como almacenamos la información; posteriormente tratamos de solucionar esta situación introduciendo un sistema de cifrado que, además de homomórfico, impone la condición de que dos textos claros corresponden a dos criptotextos diferentes, pero de nuevo hemos encontrado una brecha de seguridad. Existen otros sistemas de cifrado como El Gamal, que son homomórficos y CPA seguros [David Wagner, Lecture 19, 2006, Berkeley]. No obstante, la maleabilidad deja de nuevo patente que no podemos confiar en este sistema para abordar el problema planteado.  \n",
    "\n",
    "Otra brecha de seguridad, que no hemos tratado, sería la de utilizar una misma clave para todos los datos que han de ser cifrados. Además, si tenemos un dataset realista, la cantidad de datos cifrada generaría un campo de prueba y error inasumible. Desde este punto de vista, sería necesario encontrar sistemas que permitan minimizar la información cifrada con una sola clave. Existen soluciones fuera del ámbito del problema como la implantación de una capa adicional de cifrado en la propia comunicación. También se podría hacer análisis previo, que permita saber que datos se cruzaran para cifrar el dataset por bloques con diferentes claves. Existen otras soluciones, para explorar desde el punto de vista matemático, como la privacidad diferencial.\n",
    "\n",
    "<h3> ESTADO DEL ARTE </h3>  \n",
    "\n",
    "Este problema se remonta a 1978 cuando Rivest, Adleman y Dertouzos [Rivest, Adleman & Dertouzos, 1978,  On data banks and privacy homomorphisms. Foundations of secure computation, 169-180.] propusieron el problema de la existencia de un sistema de cifrado **completamente homomórfico**. Un sistema de cifrado completamente homomórfico soporta tanto la suma como el producto preservando así la estructura en anillo de los textos origen.  \n",
    "\n",
    "Si este tipo sistema existiera permitiría la construcción de programas que trabajen con datos cifrados cuya salida esté también cifrada salvando todas las brechas que hemos comentado anteriormente. Como estos programas no descifran los datos se pueden ejecutar en la empresa que oferta el servicio Cloud.  \n",
    "\n",
    "Pese a sus bondades, el cifrado completamente homomórfico aún es un reto en la práctica empresarial. Una de las mejores aproximaciones que existen en la actualidad es el sistema criptográfico Boneh-Goh-Nissim, que permitía la evaluación de un número ilimitado de operaciones de suma, pero a lo sumo una multiplicación. \n",
    "\n",
    "<h3> ¿EXISTE UN CIFRADO COMPLETAMENTE HOMOMÓRFICO? </h3>\n",
    "\n",
    "La respuesta a la pregunta es: sí. Desde el punto de vista puramente matemático el problema fue resuelto por Craig Gentry mientras acababa su tesis en Stanford y trabajaba en IBM (2009). Gentry propone el primer sistema de cifrado completamente homomórfico usando la teoría de retículos. Este sistema es CPA seguro y eficiente, pues sus algoritmos son de tiempo polinómico. No obstante, aún queda pendiente conseguir una versión más eficiente para que pueda ser aplicada en la práctica. En este sentido, las empresas utilizan sistemas *algo homomórficos* que pueden calcular muchas sumas, pero sólo un pequeño número de multiplicaciones.  "
   ]
  },
  {
   "cell_type": "markdown",
   "metadata": {},
   "source": [
    "<h2> SOLUCIÓN FINAL </h2> \n",
    "\n",
    "La diferencia entre el uso de un sistema parcialmente homomórfico (*Somewhat Homomorphic Encryption*) (SHE) y uno completamente homomórfico (*Fully Homomorphic Encryption*) (FHE), es que el segundo permite un número de operaciones no acotado. De hecho, es posible, partiendo de un sistema SHE obtener un sistema FHE. Gentry introdujo este camino (computacionalmente pesado) denominado *bootstrapping*. \n",
    "\n",
    "<h3> UN ESQUEMA SHE </h3>\n",
    "\n",
    "El trabajo en este tipo de sistemas se hace en un anillo de polinomios de la forma $ \\mathbb{Z}[T]/(f) $. En el que se definen operaciones de suma y multiplicación. Estas operaciones se pueden implementar utilizando la librería $ \\texttt{numpy}$, en concreto la clase $ \\texttt{numpy.polynomial} $. \n",
    "\n",
    "\n"
   ]
  },
  {
   "cell_type": "markdown",
   "metadata": {},
   "source": [
    "<h3> Fan-Vercauteren </h3>\n",
    "\n",
    "Sea $ n $ una potencia de dos. Sean t, q enteros positivos. Tomando $ \\Delta = \\lfloor q / t \\rfloor $ . El espacio de textos claros corresponde a $ R_t = \\mathbb{Z}_t [x]/(x^n + 1) $ y el de criptotextos a $ R_q = \\mathbb{Z}_q [x]/(x^n + 1) $. Denotaremos $ R = \\mathbb{Z} [x]/(x^n + 1) $.\n",
    "\n",
    "<ul>\n",
    "\n",
    "<li> \n",
    "\n",
    "Generación de clave privada: es un polinomio en $ R $ con coeficientes en $ \\{ 0, 1 \\} $ </li>\n",
    "\n",
    "<li> \n",
    "\n",
    "Generación de clave pública: tomando $ a $ en $ R_q $ y un error $ e $ en función de una cierta distribución $ \\chi $ sobre $ R $ así \n",
    "\n",
    "$$ pubKey = ([-(a \\cdot s + e)]_q, a) \\in R_q \\times R_q $$ \n",
    "\n",
    "\n",
    "</li>\n",
    "\n",
    "<li>\n",
    "\n",
    "Encriptación: sea el texto claro $ m \\in R_t $ y $ pk = (pk_0, pk_1) $ entonces $$  \\texttt{Enc}(pk, m) = ([pk_o \\cdot u  + e_1 + \\Delta \\cdot m]_q, [pk_1 \\cdot u + e_2]_q) \\in R_q \\times R_q $$ \n",
    "Debido al problema del anillo con aprendizaje de errores queda asegurado que no se revela ninguna información del texto plano. \n",
    "\n",
    "</li>\n",
    "\n",
    "<li>\n",
    "\n",
    "Desencriptación: dado un criptotexto $ ct = \\texttt{Enc}(pk, m) = (ct_0, ct_1) $ se desencripta usando la clave pública $ sk = s $ según \n",
    "\n",
    "$$ \\texttt{Dec}(sk, ct) = \\left[ \\left \\lfloor  \\dfrac{t \\cdot [ct_0 + ct_1 \\cdot s]_q }{q} \\right \\rfloor  \\right]_t \\in R_t $$\n",
    "\n",
    "</li>\n",
    "\n",
    "</ul>\n",
    "\n",
    " "
   ]
  },
  {
   "cell_type": "markdown",
   "metadata": {},
   "source": [
    "<h3> OPERACIONES HOMOMÓRFICAS </h3>\n",
    "\n",
    "Suma: \n",
    "$$ [ct(s)]_q + [ct'(s)]_q = \\Delta \\cdot (m + m') + v + v' $$\n",
    "\n",
    "$$ [ct(s) + ct'(s)]_q = \\Delta \\cdot [m + m']_t + d \\, mod \\, q $$\n",
    "\n",
    "donde $ d = v + v' - (q - \\Delta \\cdot t) \\cdot \\varepsilon $.\n",
    "\n",
    "El producto requiere de una técnica intermedia llamada *relinearization*."
   ]
  },
  {
   "cell_type": "markdown",
   "metadata": {},
   "source": [
    "<h3> IMPLEMENTACIÓN </h3>\n",
    "\n",
    "Estas técnicas están implementadas en [Mădălina Bolboceanu, Miruna Roșca, Radu Țițiu](https://github.com/bit-ml/he-scheme). No obstante, una implementación más profesional la podemos encontrar en [SEAL](https://github.com/Microsoft/SEAL). \n",
    "\n"
   ]
  },
  {
   "cell_type": "markdown",
   "metadata": {},
   "source": [
    "<h3> CONCLUSIÓN FINAL DEL TRABAJO </h3>\n",
    "\n",
    "Es emocionante enfrentarse a problemas reales utilizando las matemáticas. El camino inicial me llevó a un planteamiento totalmente erróneo. Imaginaba textos cifrados que pudiera filtrar buscando con un *if*. Las matemáticas que fui descubriendo no sólo me sacaron de mi error, sino que me hizo comprender mejor el problema. Sin querer, he construido una solución de menos a más, lo que me ha hecho comprender la importancia de estructurar desde el pensamiento matemático. Ha sido un camino de aprendizaje desde el primer momento que me senté a buscar información. Me habría gustado contar con un poco más de tiempo para meterme de lleno con las ideas de Gentry, los algoritmos algo homomórficos o la privacidad diferencial.   \n",
    "\n",
    "Me apasiona la tecnología, por eso elegí hacer la especialidad de computación. De entre los problemas planteados por las diferentes empresas este me llamó la atención desde el primero momento, todos los demás planteaban problemas más cerrados, concretos. Si me metí hacer matemáticas es porque me gusta enfrentarme a problemas que requieren procesos de aprendizaje constante, conocer nuevas ramas de las matemáticas, conectarlas con cosas tangibles. Finalmente, debo admitir, que ver un dataset con datos de la rama sanitaria despertó mi curiosidad. Siempre me ha llamado mucho la atención el impacto de la matemática en la sanidad.  "
   ]
  },
  {
   "cell_type": "markdown",
   "metadata": {},
   "source": [
    "<h3> DATAFRAMES Y NUMPY </h3>\n",
    "\n",
    "Uno de los problemas que me encontré fue la imposibilidad del uso del tipo int64 con la función predefinida pow. \n",
    "\n",
    "Una solución que he investigado es la siguiente: "
   ]
  },
  {
   "cell_type": "code",
   "execution_count": 40,
   "metadata": {},
   "outputs": [],
   "source": [
    "import pandas as pd \n",
    "import numpy as np"
   ]
  },
  {
   "cell_type": "code",
   "execution_count": 41,
   "metadata": {},
   "outputs": [],
   "source": [
    "def multiplicar_mod(a, b, N):    # 0 <= a,b < N, N >= 1\n",
    "   c = a * b\n",
    "   c %= N\n",
    "   return np.int64(c)\n",
    "\n",
    "def potencia_mod(a, k, N):             # 0 <= a < N, k >= 0, N >= 2\n",
    "    if k == 0:                         # caso base (k = 0)\n",
    "        r = 1                          # convencion: 0^0 = 1\n",
    "    elif k % 2 == 0:                   # k es par (k > 0)\n",
    "        r = potencia_mod(a, k//2, N)\n",
    "        r = multiplicar_mod(r, r, N)\n",
    "    else:                              # k es impar (k > 0)\n",
    "        r = potencia_mod(a, k-1, N)\n",
    "        r = multiplicar_mod(a, r, N)\n",
    "    return np.int64(r)"
   ]
  },
  {
   "cell_type": "code",
   "execution_count": 42,
   "metadata": {},
   "outputs": [],
   "source": [
    "def E_RSA(publicKey, mensaje): \n",
    "    n = publicKey[0]\n",
    "    e = publicKey[1]\n",
    "    return potencia_mod(mensaje, e, n)\n",
    "\n",
    "def D_RSA(privateKey, criptotexto): \n",
    "    n = privateKey[0]\n",
    "    d = privateKey[1]\n",
    "    return potencia_mod(criptotexto, d, n)\n",
    "\n",
    "def factP(mensaje_descifrado, n): \n",
    "    result = 0\n",
    "    num = 0\n",
    "    while(num != mensaje_descifrado): \n",
    "        result += 1\n",
    "        num = potencia_mod(2,result,n)\n",
    "    return result "
   ]
  },
  {
   "cell_type": "markdown",
   "metadata": {},
   "source": [
    "De esta forma he conseguido salvar el problema de tipos. No obstante, se genera un problema que no me ha dado tiempo a solucionar con el uso del operador modular de Python. "
   ]
  },
  {
   "cell_type": "markdown",
   "metadata": {},
   "source": [
    "<h3>BIBLIOGRAFÍA</h3>\n",
    "\n",
    "González Vasco, M. I. (2003). Criptosistemas basados en Teoría de grupos.\n",
    "\n",
    "Milanov, E. (2009). The RSA algorithm. RSA laboratories, 1-11.\n",
    "\n",
    "Pardo, J. L. G. (2012). Cifrado homomórfico: ejemplos y aplicaciones. Gaceta de la Real Sociedad Matematica Española, 15(4), 697-712.\n",
    "\n",
    "Mădălina Bolboceanu, Miruna Roșca, Radu Țițiu (16 de Noviembre 2020) Homomorphic Encryption: a Toy Implementation in Python. https://bit-ml.github.io/blog/post/homomorphic-encryption-toy-implementation-in-python/"
   ]
  }
 ],
 "metadata": {
  "kernelspec": {
   "display_name": "Python 3 (ipykernel)",
   "language": "python",
   "name": "python3"
  },
  "language_info": {
   "codemirror_mode": {
    "name": "ipython",
    "version": 3
   },
   "file_extension": ".py",
   "mimetype": "text/x-python",
   "name": "python",
   "nbconvert_exporter": "python",
   "pygments_lexer": "ipython3",
   "version": "3.10.6"
  },
  "vscode": {
   "interpreter": {
    "hash": "916dbcbb3f70747c44a77c7bcd40155683ae19c65e1c03b4aa3499c5328201f1"
   }
  }
 },
 "nbformat": 4,
 "nbformat_minor": 2
}
