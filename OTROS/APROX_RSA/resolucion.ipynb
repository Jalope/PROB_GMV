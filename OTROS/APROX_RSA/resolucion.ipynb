{
 "cells": [
  {
   "cell_type": "markdown",
   "metadata": {},
   "source": [
    "<h1>PRIMERA APROXIMACIÓN AL PROBLEMA<h1>"
   ]
  },
  {
   "cell_type": "markdown",
   "metadata": {},
   "source": [
    "<h2>INTRODUCCIÓN<h2>"
   ]
  },
  {
   "cell_type": "markdown",
   "metadata": {},
   "source": [
    "Para ilustrar el ejemplo se utiliza el dataset [SURVEY LUNG CANCER](https://www.kaggle.com/datasets/mysarahmadbhat/lung-cancer), cuyas características son:\n",
    " \n",
    "Total no. of attributes:16\n",
    "No .of instances:284\n",
    "Attribute information:\n",
    "\n",
    "    Gender: M(male), F(female)\n",
    "    Age: Age of the patient\n",
    "    Smoking: YES=2 , NO=1.\n",
    "    Yellow fingers: YES=2 , NO=1.\n",
    "    Anxiety: YES=2 , NO=1.\n",
    "    Peer_pressure: YES=2 , NO=1.\n",
    "    Chronic Disease: YES=2 , NO=1.\n",
    "    Fatigue: YES=2 , NO=1.\n",
    "    Allergy: YES=2 , NO=1.\n",
    "    Wheezing: YES=2 , NO=1.\n",
    "    Alcohol: YES=2 , NO=1.\n",
    "    Coughing: YES=2 , NO=1.\n",
    "    Shortness of Breath: YES=2 , NO=1.\n",
    "    Swallowing Difficulty: YES=2 , NO=1.\n",
    "    Chest pain: YES=2 , NO=1.\n",
    "    Lung Cancer: YES , NO.\n",
    "\n",
    "El problema que utilizaremos como ejemplo de aplicación es un análisis sencillo. Queremos contar cuántos casos de cáncer existen en función de si los individuos son fumadores o no. \n"
   ]
  },
  {
   "cell_type": "markdown",
   "metadata": {},
   "source": [
    "<h2> HERRAMIENTAS UTILIZADAS <h2>"
   ]
  },
  {
   "cell_type": "markdown",
   "metadata": {},
   "source": [
    "La salida es un documento html exportado desde una libreta de Jupyter Notebook. El código está escrito en lenguaje Python3 y la matemática con comandos de $\\LaTeX$. "
   ]
  },
  {
   "cell_type": "markdown",
   "metadata": {},
   "source": [
    "<h2>CIFRADO HOMOMÓRFICO<h2>"
   ]
  },
  {
   "cell_type": "markdown",
   "metadata": {},
   "source": [
    "El uso de un sistema de cifrado homomórfico está motivado por la obtención de un algoritmo de descifrazo que defina, para una clave privada, un homomorfismo de grupos entre el espacio del mensaje cifrado ($\\mathcal{C}$) y el del mensaje sin cifrar ($\\mathcal{M}$): \n",
    "\n",
    "$$ f: \\mathcal{C} \\rightarrow \\mathcal{M} $$\n",
    "\n",
    "Así, podremos enviar la información cifrada al servicio Cloud, para tratarla encriptada y, posteriormente, traer al local las conclusiones para ser descifradas. Para una primera aproximación tomamos el sistema RSA simplificado. \n",
    "\n",
    "La clave pública es un par $(N,e)$ donde $N = p \\cdot q$ es producto de dos primos $p$ y $q$ suficientemente grandes y distintos. Por otro lado, $e$ es el llamado exponente de cifrado que es un entero positivo tal que mcd $(e,\\phi(N)) = 1$, donde $\\phi(N) = (p-1)(q-1)$ es la función $\\phi$ de Euler. \n",
    "\n",
    "La clave privada es el par $(N,d)$ donde $d$ es el exponente de descifrado (i.e. el inverso de $e$ módulo $\\phi(n)$). De este modo se verifica que \n",
    "\n",
    "$$ e \\cdot d \\equiv 1\\, (mod\\, (p-1)(q-1))$$\n",
    "\n",
    "así \n",
    "\n",
    "$$ \\mathcal{M} = \\mathcal{C} = (\\mathbb{Z}_N)^* $$\n",
    "\n",
    "que es el grupo multiplicativo de las unidades módulo n, cuyos elementos son \n",
    "\n",
    "$$ m \\in \\mathbb{Z}: 1 \\leq m < N \\wedge mcd\\, (m,n) = 1 $$\n",
    "\n",
    "quedando el homomorfismo de grupos \n",
    "\n",
    "$$ E: (\\mathbb{Z}_N)^* \\longrightarrow (\\mathbb{Z}_N)^* $$\n",
    "$$ m \\mapsto m^e\\, mod \\, N $$\n",
    "\n",
    "que es un isomorfismo, que permite descifrar un mensaje cifrado $c$ através de su inverso  \n",
    "\n",
    "$$D(c) = c^d \\, mod \\, N$$\n",
    "\n",
    "La utilidad de esto radica en que $((\\mathbb{Z}_N)^*,\\; \\cdot)$ es un grupo multiplicativo, por tanto \n",
    "\n",
    "$$ \\begin{equation} \\tag{h}\n",
    "E(m_1 \\cdot m_2) = E(m_1) \\cdot E(m_2)\n",
    "\\end{equation} \n",
    "$$  "
   ]
  },
  {
   "cell_type": "markdown",
   "metadata": {},
   "source": [
    "<h2>APLICACIÓN AL DATASET DEL CÁNCER DE PULMÓN<h2>"
   ]
  },
  {
   "cell_type": "markdown",
   "metadata": {},
   "source": [
    "En primer lugar vamos a definir dos funciones, una para encriptar un tipo int y otra para desencriptarlo. Los parámetros de entrada para la función que encripta serán: \n",
    "<ul>\n",
    "<li>publicKey -> Lista que contiene: N, e </li>\n",
    "<li>mensaje -> int </li>\n",
    "</ul>\n",
    "mientras que para la función que desencipta tendremos:\n",
    "<ul>\n",
    "<li>privateKey -> Lista que contiene: N, d </li>\n",
    "<li>criptotexto -> int </li>\n",
    "</ul>\n",
    "\n",
    "Las funciones se muestran a continuación: "
   ]
  },
  {
   "cell_type": "code",
   "execution_count": 1,
   "metadata": {},
   "outputs": [],
   "source": [
    "def E_RSA(publicKey, mensaje): \n",
    "    n = publicKey[0]\n",
    "    e = publicKey[1]\n",
    "    return pow(mensaje, e, n)\n",
    "\n",
    "def D_RSA(privateKey, criptotexto): \n",
    "    n = privateKey[0]\n",
    "    d = privateKey[1]\n",
    "    return pow(criptotexto, d, n)"
   ]
  },
  {
   "cell_type": "markdown",
   "metadata": {},
   "source": [
    "Suponemos ahora que tenemos cifrada la columna *SMOKING* del dataset. Una primera opción que se ha trabajado es exportar el csv a un data frame, pero el tipo int64 con el que trabaja pandas colisiona con el uso del método *pow*. De momento, optaré por una solución más rudimentaria para encriptar la columna y poder ilustrar este ejemplo."
   ]
  },
  {
   "cell_type": "code",
   "execution_count": 2,
   "metadata": {},
   "outputs": [],
   "source": [
    "fumar = []\n",
    "with open('survey_lung_cancer.csv', 'r') as archivo: \n",
    "    lineas = archivo.read().splitlines()\n",
    "    #borro encabezado\n",
    "    lineas.pop(0)\n",
    "    for l in lineas: \n",
    "        linea = l.split(',')\n",
    "        fumar.append(int(linea[2]))"
   ]
  },
  {
   "cell_type": "markdown",
   "metadata": {},
   "source": [
    "De esta forma, hemos creado la columna *fumar* que contiene los enteros 1 si la persona no era fumadora y 2 si la persona era fumadora. Ambas entradas de tipo int. De modo que ya podemos encriptar secuencialmente la columna. \n",
    "\n",
    "Para ello definimos los valores que gobiernan el ejemplo: "
   ]
  },
  {
   "cell_type": "code",
   "execution_count": 3,
   "metadata": {},
   "outputs": [],
   "source": [
    "e = 2**16 + 1                       #exponente de cifrado \n",
    "p = 409                             #primo \n",
    "q = 317                             #primo\n",
    "n = p * q                           #producto de dos primos distintos \n",
    "\n",
    "phi_n = (p-1)*(q-1)                 #cálculo de la función phi de Euler para n\n",
    "\n",
    "pubKey = [n, e]                     #Clave publica \n",
    "priKey = [n, pow(e,-1,phi_n)]       #clave privada"
   ]
  },
  {
   "cell_type": "markdown",
   "metadata": {},
   "source": [
    "Ciframos la columna *fumar*"
   ]
  },
  {
   "cell_type": "code",
   "execution_count": 4,
   "metadata": {},
   "outputs": [],
   "source": [
    "fumar_encrip = []\n",
    "for elemento in fumar: \n",
    "    fumar_encrip.append(E_RSA(pubKey, elemento))"
   ]
  },
  {
   "cell_type": "markdown",
   "metadata": {},
   "source": [
    "Ahora vamos hacer el cálculo pedido: encontrar cuántos pacientes de cáncer de pulmón eran fumadores y cuántos no. En primer lugar, las entradas del dataset son el 1 y un número primo. Por el teorema fundamental de la aritmética sabemos que todo entero positivo mayor que 1 es un número primo o bien un único producto de números primos. De modo que el número de pacientes fumadores se puede obtener fácilmente, ya que conocemos los factores involucrados en la descomposición del producto de todos los elementos de la columna *fumar_encrip*. Sólo nos falta por conocer sus exponentes para extraer la información pedida. \n",
    "\n",
    "Calculamos el productorio módulo n de *fumar_encrip*"
   ]
  },
  {
   "cell_type": "code",
   "execution_count": 5,
   "metadata": {},
   "outputs": [
    {
     "data": {
      "text/plain": [
       "84172"
      ]
     },
     "execution_count": 5,
     "metadata": {},
     "output_type": "execute_result"
    }
   ],
   "source": [
    "from math import prod\n",
    "producto = (prod(fumar_encrip)) % n\n",
    "producto"
   ]
  },
  {
   "cell_type": "markdown",
   "metadata": {},
   "source": [
    "Esta operación con los datos encriptados se habría hecho en la estructura del proveedor cloud y exportaríamos al local, únicamente, la variable *producto*. \n",
    "\n",
    "Una vez en local, el usuario conocería la clave privada por lo que podría desencriptarlo y *factorizarlo* para extraer la información buscada gracias a (h). \n",
    "\n",
    "En este caso, por ser una de las entradas un 1, el único primo es 2, por lo que buscamos su exponente y mediante la diferencia respecto al total obtenemos el número de pacientes no fumadores. La función que factorizará *producto* simplemente eleva iterativamente 2, una unidad más en cada paso, hasta obtener el valor de la variable *producto*."
   ]
  },
  {
   "cell_type": "code",
   "execution_count": 6,
   "metadata": {},
   "outputs": [],
   "source": [
    "def factP(mensaje_descifrado, n): \n",
    "    result = 0\n",
    "    num = 0\n",
    "    while(num != mensaje_descifrado): \n",
    "        result += 1\n",
    "        num = pow(2,result,n)\n",
    "        \n",
    "    return result "
   ]
  },
  {
   "cell_type": "code",
   "execution_count": 7,
   "metadata": {},
   "outputs": [
    {
     "name": "stdout",
     "output_type": "stream",
     "text": [
      "El total de pacientes fumadores es: 174. \n",
      "El total de pacientes no fumadores es: 135. \n",
      "De un total de 309 pacientes.\n"
     ]
    }
   ],
   "source": [
    "fumadores = factP(D_RSA(priKey, producto), n)\n",
    "total = len(fumar)\n",
    "no_fumadores = abs(total - fumadores)\n",
    "print(f'El total de pacientes fumadores es: {fumadores}. \\nEl total de pacientes no fumadores es: {no_fumadores}. \\nDe un total de {total} pacientes.')"
   ]
  },
  {
   "cell_type": "markdown",
   "metadata": {},
   "source": [
    "<h2>LIMITACIONES<h3>"
   ]
  },
  {
   "cell_type": "markdown",
   "metadata": {},
   "source": [
    "El proceso que se acaba de describir es inútil desde el punto de vista de la seguridad. Al ser un proceso determinista, es decir, los pacientes fumadores y no fumadores se cifran siempre de la misma manera, no podemos presuponer que alguien que quiera hacer un uso fraudulento de la información desconoce los elementos involucrados en el algoritmo (*principio de Kerckhoffs*). \n",
    "\n",
    "Esto se puede traducir en que, en el peor caso, con un par de evaluaciones obtenemos si un paciente es o no fumador: "
   ]
  },
  {
   "cell_type": "code",
   "execution_count": 8,
   "metadata": {},
   "outputs": [
    {
     "name": "stdout",
     "output_type": "stream",
     "text": [
      "Buscamos la representación de 1\n",
      "Representa: No es fumador\n"
     ]
    }
   ],
   "source": [
    "valor = E_RSA(pubKey, 1)\n",
    "print(f'Buscamos la representación de 1')\n",
    "if (not E_RSA(pubKey, 1) == valor):\n",
    "    E_RSA(pubKey, 2) == valor\n",
    "    print(\"Representa: Es fumador\")\n",
    "else: \n",
    "    print(\"Representa: No es fumador\")"
   ]
  },
  {
   "cell_type": "markdown",
   "metadata": {},
   "source": [
    "La probabiliad de distinguir al fumador del no fumador es 1. El objetivo sería no ser capaces de acertar con probabilidad significativamente mayor que $\\dfrac{1}{2}$. \n",
    "\n",
    "La definición asintótica de la probabilidad insignificante supone que, si alguien intenta distinguir los mensajes lo hace con probabiliad $\\dfrac{1}{2}+\\dfrac{1}{f(k)}$, donde $k$ es la longitud del módulo RSA y $f(k)$ una función polinómica, entonces el algoritmo no es seguro. "
   ]
  },
  {
   "cell_type": "markdown",
   "metadata": {},
   "source": [
    "<h1>MEJORANDO EL SISTEMA<h1>"
   ]
  },
  {
   "cell_type": "markdown",
   "metadata": {},
   "source": [
    "Un algoritmo de cifrado que es homomórfico y CPA seguro es el de Paillier. Se dice que un procedimiento es CPA seguro si en tiempo polinómico un atacante no puede distinguir entre dos criptotextos partiendo de dos textos sin cifrar elegidos por él."
   ]
  },
  {
   "cell_type": "markdown",
   "metadata": {},
   "source": [
    "Las fases que gobiernan el algoritmo de Paillier son tres, a saber: \n",
    "* **Generar las claves**. Se generan dos primos aleatorios $p$ y $q$ y se obtiene la clave pública $n=pq$ y la clave privada $(n, \\phi(n))$. Por simplicidad, supondremos que $p$ y $q$ tienen la misma longitud. \n",
    "* **Cifrar**. El conjunto de textos sin cifrar será $\\mathbb{Z}_n$ y el de criptotextos $(\\mathbb{Z}_{n^2})^*$. Para cifrar un mensaje $m \\in \\mathbb{Z}_n$, se elige $r \\in (\\mathbb{Z}_{n^2})^*$ al *azar* y se calcula el criptotexto como \n",
    "\n",
    "$$c = E(n, m) := ((1+n)^m \\cdot r^n)\\, mod \\, n^2 \\in (\\mathbb{Z}_{n^2})^* \\tag{Encriptación con Paillier} $$\n",
    "\n",
    "* **Descifrar**. Para descrifrar $c$ con la clave privada $(n, \\phi(n))$ se hace $$m = D((n, \\phi(n)), c) := \\dfrac{(c^{\\phi(n)}\\, mod\\, n^2)-1}{n} \\cdot \\phi(n)^{-1} \\, mod \\, n \\tag{Desencriptación con Paillier} $$ donde $((c^{\\phi(n)}\\, mod\\, n^2)-1)/n$ se calcula en $\\mathbb{Z}$.\n",
    "\n",
    "Ahora bien, $\\mathbb{Z}_n$ es aditivo, y $(\\mathbb{Z}_{n^2})^*$ multiplicativo, por lo que la función de descifrado de Paillier lleva un producto de criptotextos en $(\\mathbb{Z}_{n^2})^*$ a la suma de los textos sin cifrar en $\\mathbb{Z}_{n}$. Sean $m_1$ y $m_2 \\in \\mathbb{Z}_n$, entonces $c_1 = E(n, m_1)$ y $c_2 = E(n, m_2)$ de donde  \n",
    "\n",
    "$$D((n, \\phi(n), c), (c_1 \\cdot c_2)\\, mod \\, n^2) = (m_1 + m_2) \\, mod \\, n \\tag{Propiedad homomórfica} $$ \n",
    "\n",
    "La aplicación $D: (\\mathbb{Z}_{n^2})^* \\rightarrow \\mathbb{Z}_{n}$ inducida por el algoritmo de descifrado con una clave fija es un homomorfismo de grupos (no se puede afirmar lo mismo del de cifrado por ser probabilista). No obstante, es cierto que para cifrar la suma de varios mensajes se puede tomar como criptotexto el productorio de los criptotextos asociados a cada mensaje. "
   ]
  },
  {
   "cell_type": "markdown",
   "metadata": {},
   "source": [
    "<h2>APLICACIÓN AL DATASET DEL CÁNCER DE PULMÓN<h2>"
   ]
  },
  {
   "cell_type": "markdown",
   "metadata": {},
   "source": [
    "Importamos la función $ \\texttt{getprimeover(N)} $ la cual retorna un primo de N-bits usando GMP o, si no está accesible, PyCrypto; que son librerías criptográficas de Python. Además, importamos $ \\texttt{random} $ para hallar $r \\in (\\mathbb{Z}_{n^2})^* $"
   ]
  },
  {
   "cell_type": "code",
   "execution_count": 47,
   "metadata": {},
   "outputs": [],
   "source": [
    "from phe.util import getprimeover\n",
    "from random import *"
   ]
  },
  {
   "cell_type": "markdown",
   "metadata": {},
   "source": [
    "Generamos las claves pública y privada suponiendo que la longitud de N es de 1024. Generalmente se usan longitudes de 3072 (como hace la librería $ \\texttt{Paillier} $ de $ \\texttt{phe} $)"
   ]
  },
  {
   "cell_type": "code",
   "execution_count": 108,
   "metadata": {},
   "outputs": [],
   "source": [
    "N_LEN = 1024\n",
    "p = q = n = None\n",
    "n_len = 0\n",
    "while n_len != N_LEN:\n",
    "    p = getprimeover(N_LEN // 2)\n",
    "    q = p\n",
    "    while q == p:\n",
    "        q = getprimeover(N_LEN // 2)\n",
    "    n = p * q\n",
    "    n_len = n.bit_length()\n",
    "\n",
    "\n",
    "phi_n_P = (p-1) * (q-1)\n",
    "public_key_P = n \n",
    "private_key_P = [n, phi_n_P]"
   ]
  },
  {
   "cell_type": "markdown",
   "metadata": {},
   "source": [
    "Implementamos un procedimiento para encriptar, según lo visto en (Encriptación con Paillier), y un procedimiento para desencriptar, según lo visto en (Desencriptación con Paillier)"
   ]
  },
  {
   "cell_type": "code",
   "execution_count": 121,
   "metadata": {},
   "outputs": [],
   "source": [
    "def E_PAI(publicKey, mensaje): \n",
    "    r = randint(1, n) \n",
    "    nc = n**2\n",
    "    return pow((1+n), mensaje, nc) * pow(r, n, nc)\n",
    "\n",
    "def D_PAI(privateKey, criptotexto): \n",
    "    n = privateKey[0]\n",
    "    phi = privateKey[1]\n",
    "    nc = n**2\n",
    "\n",
    "    numerador = ((pow(criptotexto, phi, nc) - 1) // n) % n\n",
    "    denominador = pow(phi, -1, n)\n",
    "    return (numerador * denominador) % n \n"
   ]
  },
  {
   "cell_type": "markdown",
   "metadata": {},
   "source": [
    "PRUEBA BORRAR EN EL DEFINITIVO ----------------------"
   ]
  },
  {
   "cell_type": "code",
   "execution_count": 122,
   "metadata": {},
   "outputs": [],
   "source": [
    "si = E_PAI(public_key_P, 2)\n",
    "si_2 = E_PAI(public_key_P, 2)\n",
    "no = E_PAI(public_key_P, 1) "
   ]
  },
  {
   "cell_type": "code",
   "execution_count": 128,
   "metadata": {},
   "outputs": [
    {
     "data": {
      "text/plain": [
       "False"
      ]
     },
     "execution_count": 128,
     "metadata": {},
     "output_type": "execute_result"
    }
   ],
   "source": [
    "si == si_2"
   ]
  },
  {
   "cell_type": "code",
   "execution_count": 123,
   "metadata": {},
   "outputs": [
    {
     "name": "stdout",
     "output_type": "stream",
     "text": [
      "si: 2 \n",
      "si_2: 2 \n",
      "no: 1\n"
     ]
    }
   ],
   "source": [
    "dsi = D_PAI(private_key_P, si)\n",
    "dsi_2 = D_PAI(private_key_P, si_2)\n",
    "dno = D_PAI(private_key_P, no)\n",
    "print(f'si: {dsi} \\nsi_2: {dsi_2} \\nno: {dno}')"
   ]
  },
  {
   "cell_type": "markdown",
   "metadata": {},
   "source": [
    "FIN DE PRUEBA --------------------------"
   ]
  },
  {
   "cell_type": "markdown",
   "metadata": {},
   "source": [
    "Encriptamos la columna SMOKING del dataset"
   ]
  },
  {
   "cell_type": "code",
   "execution_count": 124,
   "metadata": {},
   "outputs": [],
   "source": [
    "fumar_encrip_P = []\n",
    "for elemento in fumar: \n",
    "    fumar_encrip_P.append(E_PAI(public_key_P, elemento))"
   ]
  },
  {
   "cell_type": "markdown",
   "metadata": {},
   "source": [
    "Calculamos \n",
    "$$ \\texttt{producto\\_p} = \\prod_{i=0}^{i = l} c_i \\, mod \\, n^2 $$\n",
    "donde l es la longitud de la lista *fumar_encrip_P*"
   ]
  },
  {
   "cell_type": "code",
   "execution_count": 125,
   "metadata": {},
   "outputs": [],
   "source": [
    "producto_P = 1\n",
    "for elemento in fumar_encrip_P:\n",
    "    producto_P = (producto_P * elemento) % n**2"
   ]
  },
  {
   "cell_type": "markdown",
   "metadata": {},
   "source": [
    "observamos que el elemento resultante está en $ (\\mathbb{Z}_{n^2})^* $"
   ]
  },
  {
   "cell_type": "code",
   "execution_count": 126,
   "metadata": {},
   "outputs": [
    {
     "name": "stdout",
     "output_type": "stream",
     "text": [
      "producto: 617 \n",
      "n**2: 617\n"
     ]
    }
   ],
   "source": [
    "print(f'producto: {len(str(producto_P))} \\nn**2: {len(str(n**2))}')"
   ]
  },
  {
   "cell_type": "markdown",
   "metadata": {},
   "source": [
    "Este valor lo traeríamos al local dentro nuestra empresa. Ahora, sabemos que para descrifrarlo es un homomorfismo según la propiedad descrita en (Propiedad homomórfica), la función de descifrado obtendrá\n",
    "$$  \\sum_{i=0}^l m_i \\, mod \\, n  $$  "
   ]
  },
  {
   "cell_type": "markdown",
   "metadata": {},
   "source": [
    "dicho numero debe representar la suma de pacientes fumadores y no fumadores de la columna SMOKING del dataset"
   ]
  },
  {
   "cell_type": "code",
   "execution_count": 127,
   "metadata": {},
   "outputs": [
    {
     "data": {
      "text/plain": [
       "483"
      ]
     },
     "execution_count": 127,
     "metadata": {},
     "output_type": "execute_result"
    }
   ],
   "source": [
    "cyf = D_PAI(private_key_P, producto_P)\n",
    "cyf"
   ]
  },
  {
   "cell_type": "markdown",
   "metadata": {},
   "source": [
    "Dado que las entradas elegidas para representar el *si* y el *no* son 2 y 1, este camino no sirve pues no sería posible. Al ser una suma, descomponerla y obtener la información deseada no es viable. El valor obtenido 483, es coherente con la solución obtenida con RSA, la cual decía: \n",
    "\n",
    "$$ \\texttt{El total de pacientes fumadores es: 174.} $$ \n",
    "$$ \\texttt{El total de pacientes no fumadores es: 135.} $$\n",
    "\n",
    "es decir, \n",
    "\n",
    "$$ 172 \\cdot 2 + 135 \\cdot  1 = 483 $$\n",
    "\n",
    "como hemos obtenido. El sistema funciona como se esperaba. \n",
    "\n",
    "No obstante, para poder usar este método de forma eficaz, necesitamos que las entradas sean, por ejemplo, 0 y 1, de forma que la suma obtenida ya representaría el total de una de las dos opciones, siendo la otra la diferencia respecto del total de casos estudiados. "
   ]
  },
  {
   "cell_type": "markdown",
   "metadata": {},
   "source": [
    "<h2> SEGURIDAD <h2>"
   ]
  },
  {
   "cell_type": "markdown",
   "metadata": {},
   "source": [
    "Si reproducimos el ataque que hicimos para RSA encontramos una diferencia sustancial: **dos textos claros no siempre tienen el mismo criptotexto**. En efecto: "
   ]
  },
  {
   "cell_type": "code",
   "execution_count": 129,
   "metadata": {},
   "outputs": [
    {
     "data": {
      "text/plain": [
       "False"
      ]
     },
     "execution_count": 129,
     "metadata": {},
     "output_type": "execute_result"
    }
   ],
   "source": [
    "dos = E_PAI(public_key_P, 2)\n",
    "otro_dos = E_PAI(public_key_P, 2)\n",
    "\n",
    "dos == otro_dos"
   ]
  },
  {
   "cell_type": "markdown",
   "metadata": {},
   "source": [
    "<h2>LIMITACIONES<h2>"
   ]
  },
  {
   "cell_type": "markdown",
   "metadata": {},
   "source": [
    "Podría parecer que hemos resuelto el problema. Pero nada más lejos de la realidad. Hemos impuesto que nuestro sistema de cifrado, además de homórfico, sea CPA seguro. Pero se conocen formas de atacar a estos sistemas permitiendo conocer, en nuestro caso, si un paciente en concreto es o no fumador. Este tipo de ataques se conocen como ataques CCA. Como en el caso CPA se elegirán dos mensajes, y uno de ellos (al azar) es cifrado, y el criptotexto es entregado al atacante que intenta descifrar a cuál corresponde. Además, el atacante puede adaptar el ataque según las respuesta que obtenga. Veamos que ocurre con nuestro ejemplo:"
   ]
  },
  {
   "cell_type": "markdown",
   "metadata": {},
   "source": [
    "En primer lugar ciframos el 1"
   ]
  },
  {
   "cell_type": "code",
   "execution_count": 131,
   "metadata": {},
   "outputs": [
    {
     "data": {
      "text/plain": [
       "1614862311117929082007096343991289905453215658350899400051431243623380632352873754730478117442087443905557777906314556011935126745412287906763452509006568908455877798199535526666768387095439877562563960572327693104870843166304173238746775726899929633699391876043988171630093688890983715592446447501948369367056433143340360071576040105757680304920019972050151190091920046652869687687511458147341120594196303165304607954139588100947632730397759988528157723236023219911589379948035805451220493726584005318866606373622491270365078916511381565984372339975781817974777810340287202959199496775808719224079720063494197507957399532684682350429209408602934583030879905508152918943613749100470827904056248772861682560014617616775542373253480021543363227449950811083505255545750677462440454716568518739987406672633560393294217160430062442441282589023978753455031066529351555076892557014046193670475808134158031321831775744788980460293648"
      ]
     },
     "execution_count": 131,
     "metadata": {},
     "output_type": "execute_result"
    }
   ],
   "source": [
    "uno = E_PAI(public_key_P, 1)\n",
    "uno "
   ]
  },
  {
   "cell_type": "markdown",
   "metadata": {},
   "source": [
    "El atacante, puede utilizar la propiedad homomórfica. Sea c el primer elemento de $ \\texttt{fumar\\_encrip\\_P} $ \n",
    "\n",
    "$$ \\texttt{c1} := (\\texttt{uno} \\cdot \\texttt{c}) \\, mod \\, n^2 $$\n",
    "\n",
    "y además, sabe que \n",
    "\n",
    "$$ \\texttt{D\\_PAI(private\\_key\\_p, uno) = 1} $$"
   ]
  },
  {
   "cell_type": "code",
   "execution_count": 138,
   "metadata": {},
   "outputs": [
    {
     "data": {
      "text/plain": [
       "1"
      ]
     },
     "execution_count": 138,
     "metadata": {},
     "output_type": "execute_result"
    }
   ],
   "source": [
    "c1 = (uno * fumar_encrip_P[0]) % (n**2) \n",
    "D_PAI(private_key_P, c1) - 1"
   ]
  },
  {
   "cell_type": "markdown",
   "metadata": {},
   "source": [
    "ergo el primer paciente, no era fumador. "
   ]
  },
  {
   "cell_type": "markdown",
   "metadata": {},
   "source": [
    "\"Un esquema criptográfico se dice no maleable si la probabilidad de que el adversario encuentre dichos textos [...] no es significativamente mayor que dicha probabilidad para el cifrado de una cadena de bits $ x $ elegida al azar.\" (González Vasco, 2003, p.26)"
   ]
  },
  {
   "cell_type": "markdown",
   "metadata": {},
   "source": [
    "Por tanto decimos que el método de Paillier es maleable. Un atacante puede modificar el criptotexto del ataque y obtener otro criptotexto relacionado de forma que su texto claro esté relacionado con el texto claro que se quiere descifrar. "
   ]
  },
  {
   "cell_type": "markdown",
   "metadata": {},
   "source": [
    "<h3>BIBLIOGRAFÍA<h3>"
   ]
  },
  {
   "cell_type": "markdown",
   "metadata": {},
   "source": [
    "González Vasco, M. I. (2003). Criptosistemas basados en Teoría de grupos.\n",
    "\n",
    "Milanov, E. (2009). The RSA algorithm. RSA laboratories, 1-11.\n",
    "\n",
    "Pardo, J. L. G. (2012). Cifrado homomórfico: ejemplos y aplicaciones. Gaceta de la Real Sociedad Matematica Española, 15(4), 697-712.\n",
    "\n"
   ]
  }
 ],
 "metadata": {
  "kernelspec": {
   "display_name": "Python 3.10.6 64-bit",
   "language": "python",
   "name": "python3"
  },
  "language_info": {
   "codemirror_mode": {
    "name": "ipython",
    "version": 3
   },
   "file_extension": ".py",
   "mimetype": "text/x-python",
   "name": "python",
   "nbconvert_exporter": "python",
   "pygments_lexer": "ipython3",
   "version": "3.10.6"
  },
  "orig_nbformat": 4,
  "vscode": {
   "interpreter": {
    "hash": "916dbcbb3f70747c44a77c7bcd40155683ae19c65e1c03b4aa3499c5328201f1"
   }
  }
 },
 "nbformat": 4,
 "nbformat_minor": 2
}
