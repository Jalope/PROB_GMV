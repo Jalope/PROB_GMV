{
 "cells": [
  {
   "cell_type": "code",
   "execution_count": null,
   "id": "2930338f",
   "metadata": {},
   "outputs": [],
   "source": [
    "producto_P = 1\n",
    "for elemento in fumar_encrip_P:\n",
    "    producto_P = (producto_P * elemento) % n**2"
   ]
  }
 ],
 "metadata": {
  "kernelspec": {
   "display_name": "Python 3 (ipykernel)",
   "language": "python",
   "name": "python3"
  },
  "language_info": {
   "codemirror_mode": {
    "name": "ipython",
    "version": 3
   },
   "file_extension": ".py",
   "mimetype": "text/x-python",
   "name": "python",
   "nbconvert_exporter": "python",
   "pygments_lexer": "ipython3",
   "version": "3.10.6"
  }
 },
 "nbformat": 4,
 "nbformat_minor": 5
}
