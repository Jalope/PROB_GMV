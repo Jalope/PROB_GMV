{
 "cells": [
  {
   "cell_type": "markdown",
   "metadata": {},
   "source": [
    "<h1>PRIMERA APROXIMACIÓN AL PROBLEMA<h1>"
   ]
  },
  {
   "cell_type": "markdown",
   "metadata": {},
   "source": [
    "<h2>DATOS Y PROBLEMA A ESTUDIO<h2>"
   ]
  },
  {
   "cell_type": "markdown",
   "metadata": {},
   "source": [
    "Para ilustrar el ejemplo se utiliza el data set: [SURVEY LUNG CANCER](https://www.kaggle.com/datasets/mysarahmadbhat/lung-cancer) cuyas caracteristicas son: \n",
    "Total no. of attributes:16\n",
    "No .of instances:284\n",
    "Attribute information:\n",
    "\n",
    "    Gender: M(male), F(female)\n",
    "    Age: Age of the patient\n",
    "    Smoking: YES=2 , NO=1.\n",
    "    Yellow fingers: YES=2 , NO=1.\n",
    "    Anxiety: YES=2 , NO=1.\n",
    "    Peer_pressure: YES=2 , NO=1.\n",
    "    Chronic Disease: YES=2 , NO=1.\n",
    "    Fatigue: YES=2 , NO=1.\n",
    "    Allergy: YES=2 , NO=1.\n",
    "    Wheezing: YES=2 , NO=1.\n",
    "    Alcohol: YES=2 , NO=1.\n",
    "    Coughing: YES=2 , NO=1.\n",
    "    Shortness of Breath: YES=2 , NO=1.\n",
    "    Swallowing Difficulty: YES=2 , NO=1.\n",
    "    Chest pain: YES=2 , NO=1.\n",
    "    Lung Cancer: YES , NO.\n",
    "\n",
    "El problema de estudio que utilizaremos como ejemplo de aplicación es un análisis sencillo, queremos contar cuántos casos de cáncer existen en función de si los individuos son fumadores o no. \n"
   ]
  },
  {
   "cell_type": "markdown",
   "metadata": {},
   "source": [
    "<h2> HERRAMIENTAS UTILIZADAS <h2>"
   ]
  },
  {
   "cell_type": "markdown",
   "metadata": {},
   "source": [
    "La salida es un documento html exportado desde una libreta de Jupyter Notebook. El código está escrito en lenguaje Python3 y la matemática con comandos de $\\LaTeX$. "
   ]
  },
  {
   "cell_type": "markdown",
   "metadata": {},
   "source": [
    "<h2>CIFRADO HOMOMORFICO<h2>"
   ]
  },
  {
   "cell_type": "markdown",
   "metadata": {},
   "source": [
    "El uso de un sistema de cifrado homomorfico está motivado por la obtención de un algoritmo de descifrazo que defina, para una clave privada, un homomorfismo de grupos entre el espacio del mensaje cifrado ($\\mathcal{C}$) y el del mensaje sin cifrar ($\\mathcal{M}$): \n",
    "\n",
    "$$ f: \\mathcal{C} \\rightarrow \\mathcal{M} $$\n",
    "\n",
    "asi podremos enviar la información cifrada al servicio Cloud, tratarla estando cifrada y posteriormente traer al local las conclusiones para ser descifradas. Para una primera aproximación tomamos el sistema RSA simplificado. \n",
    "\n",
    "La clave publica es un par $(N,e)$ donde $N = p \\cdot q$ es producto de dos primos $p$ y $q$ suficientemente grandes y distintos. Por otro lado, $e$ es el llamado exponente de cifrado que es un entero positivo tal que mcd $(e,\\phi(N)) = 1$, donde $\\phi(N) = (p-1)(q-1)$ es la función $\\phi$ de Euler. \n",
    "\n",
    "La clave privada, es el par $(N,d)$ donde $d$ es el exponente de descifrado (i.e. el inverso de $e$ módulo $\\phi(n)$). De este modo se verifica que \n",
    "\n",
    "$$ e \\cdot d \\equiv 1\\, (mod\\, (p-1)(q-1))$$\n",
    "\n",
    "así \n",
    "\n",
    "$$ \\mathcal{M} = \\mathcal{C} = (\\mathbb{Z}_N)^* $$\n",
    "\n",
    "que es el grupo multiplicativo de las unidades módulo n, cuyos elementos son \n",
    "\n",
    "$$ m \\in \\mathbb{Z}: 1 \\leq m < N \\wedge mcd\\, (m,n) = 1 $$\n",
    "\n",
    "quedando el homomorfismo de grupos \n",
    "\n",
    "$$ E: (\\mathbb{Z}_N)^* \\longrightarrow (\\mathbb{Z}_N)^* $$\n",
    "$$ m \\mapsto m^e\\, mod \\, N $$\n",
    "\n",
    "que es un isomorfismo, que permite descifrar un mensaje cifrado $c$ através de su inverso:  \n",
    "\n",
    "$$D(c) = c^d \\, mod \\, N$$\n",
    "\n",
    "La utilidad de esto radica en que $((\\mathbb{Z}_N)^*,\\; \\cdot)$ es un grupo multiplicativo, por tanto \n",
    "\n",
    "$$E(m_1 \\cdot m_2) = E(m_1) \\cdot E(m_2)$$  "
   ]
  },
  {
   "cell_type": "markdown",
   "metadata": {},
   "source": [
    "<h2>APLICACIÓN AL DATASET DEL CANCER DE PULMÓN<h2>"
   ]
  },
  {
   "cell_type": "markdown",
   "metadata": {},
   "source": [
    "En primer lugar vamos a definir dos funciones, una para encriptar un tipo int y otra para desencriptarlo. Los parámetros de entrada para la función que encripta serán \n",
    "<ul>\n",
    "<li>publicKey -> Lista que contiene: N, e </li>\n",
    "<li>mensaje -> int </li>\n",
    "</ul>\n",
    "mientras que para la función que desencipta tendremos\n",
    "<ul>\n",
    "<li>privateKey -> Lista que contiene: N, d </li>\n",
    "<li>criptotexto -> int </li>\n",
    "</ul>\n",
    "\n",
    "Las funciones se muestran a continuación: "
   ]
  },
  {
   "cell_type": "code",
   "execution_count": 2,
   "metadata": {},
   "outputs": [],
   "source": [
    "def E_RSA(publicKey, mensaje): \n",
    "    n = publicKey[0]\n",
    "    e = publicKey[1]\n",
    "    return pow(mensaje, e, n)\n",
    "\n",
    "def D_RSA(privateKey, criptotexto): \n",
    "    n = privateKey[0]\n",
    "    d = privateKey[1]\n",
    "    return pow(criptotexto, d, n)"
   ]
  },
  {
   "cell_type": "markdown",
   "metadata": {},
   "source": [
    "Suponemos ahora que tenemos cifrada la columna *SMOKING* del dataset. Una primera opción que se ha trabajado es exportar el csv a un data frame, pero el tipo int64 con el que trabaja pandas colisiona con el uso del método *pow*. De momento optaré por una solución más rudimentaria para encriptar la columna y poder ilustrar este ejemplo."
   ]
  },
  {
   "cell_type": "code",
   "execution_count": 3,
   "metadata": {},
   "outputs": [],
   "source": [
    "fumar = []\n",
    "with open('survey_lung_cancer.csv', 'r') as archivo: \n",
    "    lineas = archivo.read().splitlines()\n",
    "    #borro encabezado\n",
    "    lineas.pop(0)\n",
    "    for l in lineas: \n",
    "        linea = l.split(',')\n",
    "        fumar.append(int(linea[2]))"
   ]
  },
  {
   "cell_type": "markdown",
   "metadata": {},
   "source": [
    "De esta forma hemos creado la columna *fumar* que contiene los enteros 1 si la persona no era fumadora y 2 si la persona era fumadora. Ambas entrada de tipo int. De modo que ya podemos encriptar secuencialmente la columna. \n",
    "\n",
    "Para ello definimos los valores que gobiernan el ejemplo: "
   ]
  },
  {
   "cell_type": "code",
   "execution_count": 4,
   "metadata": {},
   "outputs": [],
   "source": [
    "e = 2**16 + 1                       #exponente de cifrado \n",
    "p = 409                             #primo \n",
    "q = 317                             #primo\n",
    "n = p * q                           #producto de dos primos distintos \n",
    "\n",
    "phi_n = (p-1)*(q-1)                 #cálculo de la función phi de Euler para n\n",
    "\n",
    "pubKey = [n, e]                     #Clave publica \n",
    "priKey = [n, pow(e,-1,phi_n)]       #clave privada"
   ]
  },
  {
   "cell_type": "markdown",
   "metadata": {},
   "source": [
    "Ciframos la columna *fumar*"
   ]
  },
  {
   "cell_type": "code",
   "execution_count": 5,
   "metadata": {},
   "outputs": [],
   "source": [
    "fumar_encrip = []\n",
    "for elemento in fumar: \n",
    "    fumar_encrip.append(E_RSA(pubKey, elemento))"
   ]
  },
  {
   "cell_type": "markdown",
   "metadata": {},
   "source": [
    "Ahora vamos hacer el cálculo pedido: encontrar cuántos pacientes de cancer de pulmón eran fumadores y cuántos no. En primer lugar, las entradas del dataset son el 1 y un número primero. Por el teorema fundamental de la aritmética sabemos que todo entero positivo mayor que 1 es un número primo o bien un único producto de números primos. De modo que el número de pacientes fumadores se puede obtener facilmente, ya que conocemos los factores involucrados en la descomposición del producto de todos los elementos de la columna *fumar_encrip* por lo que sólo debemos conocer sus exponentes para extraer la información pedida. \n",
    "\n",
    "Calculamos el productorio módulo n de la *fumar_encrip*"
   ]
  },
  {
   "cell_type": "code",
   "execution_count": 6,
   "metadata": {},
   "outputs": [
    {
     "data": {
      "text/plain": [
       "84172"
      ]
     },
     "execution_count": 6,
     "metadata": {},
     "output_type": "execute_result"
    }
   ],
   "source": [
    "from math import prod\n",
    "producto = (prod(fumar_encrip)) % n\n",
    "producto"
   ]
  },
  {
   "cell_type": "markdown",
   "metadata": {},
   "source": [
    "Esta operación con los datos encriptados se habría hecho en la estructura del proveedor cloud y exportariamos al local, unicamente, la variable *producto*. \n",
    "\n",
    "Una vez en local, el usuario conoceria la clave privada por lo que podría desencriptarlo y *factorizarlo* para extraer la información buscada. \n",
    "\n",
    "En este caso, por ser una de las entradas un 1, el único primo es 2, por lo que buscamos su exponente y mediante la diferencia respecto al total obtenemos el número de pacientes no fumadores. La función que factorizará *producto* simplemente eleva iterativamente 2, una unidad más en cada paso, hasta obtener el valor de la variable *producto*."
   ]
  },
  {
   "cell_type": "code",
   "execution_count": 7,
   "metadata": {},
   "outputs": [],
   "source": [
    "def factP(mensaje_descifrado, n): \n",
    "    result = 0\n",
    "    num = 0\n",
    "    while(num != mensaje_descifrado): \n",
    "        result += 1\n",
    "        num = pow(2,result,n)\n",
    "        \n",
    "    return result "
   ]
  },
  {
   "cell_type": "code",
   "execution_count": 8,
   "metadata": {},
   "outputs": [
    {
     "name": "stdout",
     "output_type": "stream",
     "text": [
      "El total de pacientes fumadores es: 174. \n",
      "El total de pacientes no fumadores es: 135. \n",
      "De un total de 309 pacientes.\n"
     ]
    }
   ],
   "source": [
    "fumadores = factP(D_RSA(priKey, producto), n)\n",
    "total = len(fumar)\n",
    "no_fumadores = abs(total - fumadores)\n",
    "print(f'El total de pacientes fumadores es: {fumadores}. \\nEl total de pacientes no fumadores es: {no_fumadores}. \\nDe un total de {total} pacientes.')"
   ]
  },
  {
   "cell_type": "markdown",
   "metadata": {},
   "source": [
    "<h2>LIMITACIONES<h3>"
   ]
  },
  {
   "cell_type": "markdown",
   "metadata": {},
   "source": [
    "El proceso que se acaba de describir es inútil desde el punto de vista de la seguridad. Al ser un proceso determinista, es decir, los pacientes fumadores y no fumadores se cifran siempre de la misma manera, no podemos presuponer que alguien que quiera hacer un uso fraudulento de la información desconozca los elementos de $(\\mathbb{Z}_n)^*$ que se han utilizado para representar las condiciones de ser o no fumador (*principio de Kerckhoffs*). \n",
    "\n",
    "Esto se puede traducir en que, en el peor caso, con un par evaluaciones obtenemos si un paciente es o no fumador: "
   ]
  },
  {
   "cell_type": "code",
   "execution_count": 10,
   "metadata": {},
   "outputs": [
    {
     "name": "stdout",
     "output_type": "stream",
     "text": [
      "Representa: No es fumador\n"
     ]
    }
   ],
   "source": [
    "valor = E_RSA(pubKey, 1)\n",
    "\n",
    "if (not E_RSA(pubKey, 1) == valor):\n",
    "    E_RSA(pubKey, 2) == valor\n",
    "    print(\"Representa: Es fumador\")\n",
    "else: \n",
    "    print(\"Representa: No es fumador\")"
   ]
  },
  {
   "cell_type": "markdown",
   "metadata": {},
   "source": [
    "La probabiliad de distinguir al fumador del no fumador es 1. El objetivo es que no ser capaces de acertar con probabilidad significativamente mayor que $\\dfrac{1}{2}$. La definición asintótica de la probabiliad insignificante supone que, si alguién que intenta distinguir los mensajes, lo hace con probabiliad $\\dfrac{1}{2}+\\dfrac{1}{f(k)}$, donde $k$ es la longitud del módulo RSA y $f(k)$ una función polinómica, entonces el algoritmo no es seguro. "
   ]
  },
  {
   "cell_type": "markdown",
   "metadata": {},
   "source": [
    "<h1>MEJORANDO EL SISTEMA<h1>"
   ]
  },
  {
   "cell_type": "markdown",
   "metadata": {},
   "source": [
    "Un algoritmo de cifrado que es homomórfico y CPA seguro (se dice que un procedimiento es CPA seguro si en tiempo polinómico un atacante no puede distinguir entre dos criptotextos partiendo de dos textos sin cifrar elegidos por él) es el de Paillier.    "
   ]
  },
  {
   "cell_type": "markdown",
   "metadata": {},
   "source": [
    "Las fases que gobiernan el algoritmo de Paillier son tres, a saber: \n",
    "* Generar las claves. Se generan dos primos aleatorios $p$ y $q$ y se obtiene la clave pública $n=pq$ y la clave privada $(n, \\phi(n))$. Por simplicidad supondremos que $p$ y $q$ tienen la misma longitud. \n",
    "* Cifrar. El conjunto de textos sin cifrar será $\\mathbb{Z}_n$ y el de ciptotextos $(\\mathbb{Z}_{n^2})^*$. Para cifrar un mensaje $m \\in \\mathbb{Z}_n$, se elige $r \\in (\\mathbb{Z}_{n^2})^*$ al *azar* y se calcula el criptotexto como \n",
    "\n",
    "$$c = E(n, m) := ((1+n)^m \\cdot r^n)\\, mod \\, n^2 \\in (\\mathbb{Z}_{n^2})^*$$\n",
    "\n",
    "* Descifrar. Para descrifrar $c$ con la clave privada $(n, \\phi(n))$ se hace $$m = D((n, \\phi(n)), c) := \\dfrac{(c^{\\phi(n)}\\, mod\\, n^2)-1}{n} \\cdot \\phi(n)^{-1} \\, mod \\, n$$ donde $((c^{\\phi(n)}\\, mod\\, n^2)-1)/n$ se calcula en $\\mathbb{Z}$.\n",
    "\n",
    "Ahora bien, $\\mathbb{Z}_n$ es aditivo, y $(\\mathbb{Z}_{n^2})^*$ multiplicativo, por lo que la función de descifrado de Paillier lleva un producto de criptotextos en $(\\mathbb{Z}_{n^2})^*$ la suma de los textos sin cifrar en $\\mathbb{Z}_{n}$. Sean $m_1$ y $m_2 \\in \\mathbb{Z}_n$, entonces $c_1 = E(n, m_1)$ y $c_2 = E(n, m_2)$ de donde  \n",
    "\n",
    "$$D((n, \\phi(n), c), (c_1 \\cdot c_2)\\, mod \\, n^2) = (m_1 + m_2) \\, mod \\, n$$ \n",
    "\n",
    "La aplicación $D: (\\mathbb{Z}_{n^2})^* \\rightarrow \\mathbb{Z}_{n}$ inducida por el algoritmo de descifrado con una clave fija es un homomorfismo de grupos (no se puede afirmar lo mismo de del cifrado por ser probabilista). No obstante, es cierto que para cifrar la suma de varios mensajes se puede tomar como criptotexto el productorio de los criptotextos asociados a cada mensaje. "
   ]
  },
  {
   "cell_type": "markdown",
   "metadata": {},
   "source": [
    "<h3>BIBLIOGRAFIA<h3>"
   ]
  },
  {
   "cell_type": "markdown",
   "metadata": {},
   "source": [
    "Milanov, E. (2009). The RSA algorithm. RSA laboratories, 1-11.\n",
    "\n",
    "Pardo, J. L. G. (2012). Cifrado homomórfico: ejemplos y aplicaciones. Gaceta de la Real Sociedad Matematica Española, 15(4), 697-712.\n",
    "\n"
   ]
  }
 ],
 "metadata": {
  "kernelspec": {
   "display_name": "Python 3.10.6 64-bit",
   "language": "python",
   "name": "python3"
  },
  "language_info": {
   "codemirror_mode": {
    "name": "ipython",
    "version": 3
   },
   "file_extension": ".py",
   "mimetype": "text/x-python",
   "name": "python",
   "nbconvert_exporter": "python",
   "pygments_lexer": "ipython3",
   "version": "3.10.6"
  },
  "orig_nbformat": 4,
  "vscode": {
   "interpreter": {
    "hash": "916dbcbb3f70747c44a77c7bcd40155683ae19c65e1c03b4aa3499c5328201f1"
   }
  }
 },
 "nbformat": 4,
 "nbformat_minor": 2
}
