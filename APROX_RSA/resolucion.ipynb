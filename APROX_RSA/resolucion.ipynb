{
 "cells": [
  {
   "cell_type": "markdown",
   "metadata": {},
   "source": [
    "<h1>PRIMERA APROXIMACIÓN AL PROBLEMA<h1>"
   ]
  },
  {
   "cell_type": "markdown",
   "metadata": {},
   "source": [
    "En la busqueda de un sistema de cifrado homomorfico está motivada en la busqueda de un algoritmo de descifrazo que defina, para una clave privada, un homomorfismo de grupos entre el espacio del mensaje cifrado ($\\mathcal{C}$) y el del mensaje sin cifrar ($\\mathcal{M}$): \n",
    "\n",
    "$$ f: \\mathcal{C} \\rightarrow \\mathcal{M} $$\n",
    "\n",
    "asi podremos enviar la información cifrada al servicio Cloud, tratarla estando cifrada y posteriormente traer al local las conclusiones para ser descifradas. Para una primera aproximación tomamos el sistema RSA simplificado. \n",
    "\n",
    "La clave publica es un par $(N,e)$ donde $N = p \\cdot q$ es producto de dos primos $p$ y $q$ suficientemente grandes y distintos. Por otro lado, $e$ es el llamado exponente de cifrado que es un entero positivo tal que mcd $(e,\\phi(N)) = 1$, donde $\\phi(N) = (p-1)(q-1)$ es la función $\\phi$ de Euler. \n",
    "\n",
    "La clave privada, es el par $(N,d)$ donde $d$ es el exponente de descifrado (i.e. el inverso de $e$ módulo $\\phi(n)$). De este modo se verifica que \n",
    "\n",
    "$$ e \\cdot d \\equiv 1\\, (mod\\, (p-1)(q-1))$$\n",
    "\n",
    "así \n",
    "\n",
    "$$ \\mathcal{M} = \\mathcal{C} = (\\mathbb{Z}_N)^* $$\n",
    "\n",
    "que es el grupo multiplicativo de las unidades módulo n, cuyos elementos son \n",
    "\n",
    "$$ m \\in \\mathbb{Z}: 1 \\leq m < N \\wedge mcd\\, (m,n) = 1 $$\n",
    "\n",
    "quedando el homomorfismo de grupos \n",
    "\n",
    "$$ E: (\\mathbb{Z}_N)^* \\longrightarrow (\\mathbb{Z}_N)^* $$\n",
    "$$ m \\mapsto m^e\\, mod \\, N $$\n",
    "\n",
    "que es un isomorfismo, que permite descifrar un mensaje cifrado $c$ através de su inverso:  \n",
    "\n",
    "$$D(c) = c^d \\, mod \\, N$$\n",
    "\n",
    "La utilidad de esto radica en que $((\\mathbb{Z}_N)^*,\\; \\cdot)$ es un grupo multiplicativo, por tanto \n",
    "\n",
    "$$E(m_1 \\cdot m_2) = E(m_1) \\cdot E(m_2)$$  "
   ]
  },
  {
   "cell_type": "markdown",
   "metadata": {},
   "source": [
    "<h2>APLICACIÓN AL DATASET DEL CANCER DE PULMÓN<h2>"
   ]
  },
  {
   "cell_type": "markdown",
   "metadata": {},
   "source": [
    "En primer lugar vamos a definir dos funciones, una para encriptar un tipo int y otra para desencriptarlo. Los parámetros de entrada para la función que encripta serán \n",
    "<ul>\n",
    "<li>publicKey -> Lista con dos elementos que contiene N, e </li>\n",
    "<li> -> Lista con dos elementos que contiene N, e </li>\n"
   ]
  },
  {
   "cell_type": "code",
   "execution_count": 1,
   "metadata": {},
   "outputs": [],
   "source": [
    "def E_RSA(publicKey, mensaje): \n",
    "    n = publicKey[0]\n",
    "    e = publicKey[1]\n",
    "    return pow(mensaje, e, n)\n",
    "\n",
    "def D_RSA(privateKey, criptotexto): \n",
    "    n = privateKey[0]\n",
    "    d = privateKey[1]\n",
    "    return pow(criptotexto, d, n)"
   ]
  }
 ],
 "metadata": {
  "kernelspec": {
   "display_name": "Python 3.10.6 64-bit",
   "language": "python",
   "name": "python3"
  },
  "language_info": {
   "codemirror_mode": {
    "name": "ipython",
    "version": 3
   },
   "file_extension": ".py",
   "mimetype": "text/x-python",
   "name": "python",
   "nbconvert_exporter": "python",
   "pygments_lexer": "ipython3",
   "version": "3.10.6"
  },
  "orig_nbformat": 4,
  "vscode": {
   "interpreter": {
    "hash": "916dbcbb3f70747c44a77c7bcd40155683ae19c65e1c03b4aa3499c5328201f1"
   }
  }
 },
 "nbformat": 4,
 "nbformat_minor": 2
}
