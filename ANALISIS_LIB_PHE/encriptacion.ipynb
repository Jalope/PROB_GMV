{
 "cells": [
  {
   "cell_type": "code",
   "execution_count": 37,
   "metadata": {},
   "outputs": [],
   "source": [
    "from phe import paillier\n",
    "import pandas as pd \n",
    "import numpy as np "
   ]
  },
  {
   "cell_type": "code",
   "execution_count": 28,
   "metadata": {},
   "outputs": [],
   "source": [
    "public_key, private_key = paillier.generate_paillier_keypair()"
   ]
  },
  {
   "cell_type": "code",
   "execution_count": 14,
   "metadata": {},
   "outputs": [
    {
     "data": {
      "text/plain": [
       "32"
      ]
     },
     "execution_count": 14,
     "metadata": {},
     "output_type": "execute_result"
    }
   ],
   "source": [
    "public_key.__sizeof__()\n"
   ]
  },
  {
   "cell_type": "code",
   "execution_count": 16,
   "metadata": {},
   "outputs": [
    {
     "data": {
      "text/plain": [
       "32"
      ]
     },
     "execution_count": 16,
     "metadata": {},
     "output_type": "execute_result"
    }
   ],
   "source": [
    "private_key.__sizeof__()"
   ]
  },
  {
   "cell_type": "code",
   "execution_count": 36,
   "metadata": {},
   "outputs": [
    {
     "name": "stdout",
     "output_type": "stream",
     "text": [
      "2.0\n"
     ]
    }
   ],
   "source": [
    "x1 = public_key.encrypt(2)\n",
    "x2 = public_key.encrypt(2)\n",
    "z = x1 + x2\n",
    "z /= 2\n",
    "y = paillier.PaillierPrivateKey.decrypt(private_key, z)\n",
    "print(y)"
   ]
  },
  {
   "cell_type": "code",
   "execution_count": 50,
   "metadata": {},
   "outputs": [
    {
     "data": {
      "text/plain": [
       "309"
      ]
     },
     "execution_count": 50,
     "metadata": {},
     "output_type": "execute_result"
    }
   ],
   "source": [
    "dfcsv = pd.read_csv('survey_lung_cancer.csv', delimiter=',')\n",
    "len(dfcsv)"
   ]
  },
  {
   "cell_type": "code",
   "execution_count": 64,
   "metadata": {},
   "outputs": [],
   "source": [
    "col_smoking = dfcsv['SMOKING']\n",
    "columna = [col_smoking[i] for i in range(len(dfcsv))]\n",
    "#print(type(columna[0]))\n",
    "#print(type(int(columna[0])))\n",
    "columna_encriptada = []\n",
    "for elemento in columna: \n",
    "    columna_encriptada.append(public_key.encrypt(int(elemento)))\n",
    "\n"
   ]
  },
  {
   "cell_type": "code",
   "execution_count": 65,
   "metadata": {},
   "outputs": [
    {
     "name": "stdout",
     "output_type": "stream",
     "text": [
      "Los pacientes fumadores son: 0. Los pacientes no fumadores son: 309. \n",
      "El total de pacientes estudiados es: 309\n"
     ]
    }
   ],
   "source": [
    "contador = 0\n",
    "\n",
    "total = int(dfcsv.SMOKING.count())\n",
    "\n",
    "for fila in columna_encriptada:\n",
    "    if fila == 2:\n",
    "        contador += 1\n",
    "\n",
    "print(f'Los pacientes fumadores son: {contador}. Los pacientes no fumadores son: {abs(contador - total)}. \\nEl total de pacientes estudiados es: {total}')"
   ]
  }
 ],
 "metadata": {
  "kernelspec": {
   "display_name": "Python 3.10.6 64-bit",
   "language": "python",
   "name": "python3"
  },
  "language_info": {
   "codemirror_mode": {
    "name": "ipython",
    "version": 3
   },
   "file_extension": ".py",
   "mimetype": "text/x-python",
   "name": "python",
   "nbconvert_exporter": "python",
   "pygments_lexer": "ipython3",
   "version": "3.10.6"
  },
  "orig_nbformat": 4,
  "vscode": {
   "interpreter": {
    "hash": "916dbcbb3f70747c44a77c7bcd40155683ae19c65e1c03b4aa3499c5328201f1"
   }
  }
 },
 "nbformat": 4,
 "nbformat_minor": 2
}
